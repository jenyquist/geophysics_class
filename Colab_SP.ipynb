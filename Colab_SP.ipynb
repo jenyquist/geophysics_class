{
  "nbformat": 4,
  "nbformat_minor": 0,
  "metadata": {
    "kernelspec": {
      "display_name": "Python 3",
      "language": "python",
      "name": "python3"
    },
    "language_info": {
      "codemirror_mode": {
        "name": "ipython",
        "version": 3
      },
      "file_extension": ".py",
      "mimetype": "text/x-python",
      "name": "python",
      "nbconvert_exporter": "python",
      "pygments_lexer": "ipython3",
      "version": "3.7.3"
    },
    "colab": {
      "name": "Colab-SP.ipynb",
      "provenance": [],
      "collapsed_sections": [],
      "include_colab_link": true
    }
  },
  "cells": [
    {
      "cell_type": "markdown",
      "metadata": {
        "id": "view-in-github",
        "colab_type": "text"
      },
      "source": [
        "<a href=\"https://colab.research.google.com/github/jenyquist/geophysics_class/blob/main/Colab_SP.ipynb\" target=\"_parent\"><img src=\"https://colab.research.google.com/assets/colab-badge.svg\" alt=\"Open In Colab\"/></a>"
      ]
    },
    {
      "cell_type": "markdown",
      "metadata": {
        "id": "d_cJbl6n9nlw"
      },
      "source": [
        "# Spontaneous Potential (SP)\n",
        "\n",
        "***The end result of a SP survey is a set of profiles or a contour plot of voltages, typically surface measurements.  The figure below shows an SP profile collected over a sulfide deposit.  Notice that the negative anomaly is centered over the sulfide mass.  Where the topography is steep the peak might be displaced (why?).***\n",
        "\n",
        "[![SP-exercise.png](https://i.postimg.cc/K8SRckJ4/SP-exercise.png)](https://postimg.cc/jLcsZ5Vr)"
      ]
    },
    {
      "cell_type": "markdown",
      "metadata": {
        "id": "BesWvUZC9nlz"
      },
      "source": [
        "Modeling of SP data generally involves simple shapes, such as a sphere, a dipole, an ellipsoid, or a rod.  For example, consider the simplest case of a buried point source.  Without the boundary at the surface, the potential from a charged point falls off as:***\n",
        "\n",
        "$$\n",
        "V = \\frac{q}{r} = \\frac{q}{(x^2 + (z-d)^2)^{1/2}}\n",
        "$$\n",
        "\n",
        "where d is the depth to the source.  But how do we enforce the no-flow boundary condition at the surface? Any potential that satisfies Laplace's equation and the boundary conditions is the correct solution.  We can create the no-flow condition by placing a fictitious \"image charge\" at a height d above the surface.  As the charges repel equally at the surface, the no-flow boundary condition at the surface is satisfied.  \n",
        "\n",
        "Consequently, the potential in the ground for a charge buried beneath the surface is:\n",
        "\n",
        "$$\n",
        "V = \\frac{q}{(x^2 + (z-d)^2)^{1/2}} + \\frac{q}{(x^2 + (z+d)^2)^{1/2}}\n",
        "$$\n",
        "\n",
        "Notice that when z=d we get the doubling in the strength of the source that we saw in the resistivity case where the geometric factor went from $1/4\\pi$ went to $1/2\\pi$.\n",
        "\n",
        "### Student Task 1\n",
        "***Program this last equation for a buried SP voltage source into this notebook and contour the voltages for q=10 and d=5, with x ranging from –10 to +10 and z from 0 to -10.  You will probably have to use uneven contour intervals to bring out the equipotential distribution, just as you did in the resistivity introduction notebook.***\n",
        "\n",
        "#### NOTICE YOU NEED TO ADD CODE AS MARKED BELOW"
      ]
    },
    {
      "cell_type": "code",
      "metadata": {
        "id": "ON1LQvya9nl0"
      },
      "source": [
        "import numpy as np\n",
        "import matplotlib.pyplot as plt\n",
        "%matplotlib inline"
      ],
      "execution_count": null,
      "outputs": []
    },
    {
      "cell_type": "code",
      "metadata": {
        "id": "JuhmUOit9nl1"
      },
      "source": [
        "def SP_voltage(q, x, z, d):\n",
        "    V1 = # your code goes here\n",
        "    V2 = # your code goes here\n",
        "    return V1 + V2\n",
        "\n",
        "# Source strength\n",
        "q = 10\n",
        "\n",
        "# Source depth\n",
        "d = 5.1\n",
        "\n",
        "# Set the number of points in x and z directions\n",
        "nx, nz = (101, 51)\n",
        "x = np.linspace(-10, 10, nx)\n",
        "z = np.linspace(-10, 0, nz)\n",
        "\n",
        "# Create a grid of x coordinates and a grid of z coordinates\n",
        "xv, zv = np.meshgrid(x, z)\n",
        "\n",
        "# Calculate the function for all x, z grid pairs\n",
        "V = SP_voltage(q, xv, zv, d)\n",
        "\n",
        "# Create logarithmically space contours\n",
        "vlo = np.log10(np.min(V))\n",
        "vhi = np.log10(np.max(V))\n",
        "log_levels = np.linspace(vlo, vhi, 15)\n",
        "clevels = 10**log_levels\n",
        "\n",
        "# Contour the data\n",
        "fig, ax = plt.subplots(figsize=(12, 6))\n",
        "CS = ax.contour(xv, zv, V, levels=clevels)"
      ],
      "execution_count": null,
      "outputs": []
    },
    {
      "cell_type": "markdown",
      "metadata": {
        "id": "oObAc4jX9nl2"
      },
      "source": [
        "### Student Task 2\n",
        "***Plot a profile line for SP measurements made at ths surface for a line extending from x = -10 to 10***"
      ]
    },
    {
      "cell_type": "code",
      "metadata": {
        "id": "fH_a8NM39nl3"
      },
      "source": [
        "# You write the code\n"
      ],
      "execution_count": null,
      "outputs": []
    },
    {
      "cell_type": "markdown",
      "metadata": {
        "id": "aaYBJVUQ9nl3"
      },
      "source": [
        "### Digression: Subplots\n",
        "\n",
        "Matplotlib can be used to make more complicated plots comprised of subplots. Here is a simple example. The call to subplots(2,1) tells matplotlib the plot has two rows and one column."
      ]
    },
    {
      "cell_type": "code",
      "metadata": {
        "id": "1QU2FpoI9nl4"
      },
      "source": [
        "x = np.linspace(0, 2*np.pi, 100)\n",
        "signal = np.sin(x)\n",
        "noise = np.random.rand(len(signal))\n",
        "noisy_signal = signal + noise\n",
        "\n",
        "fig, (ax0, ax1) = plt.subplots(2,1)\n",
        "ax0.plot(x, signal)\n",
        "ax1.plot(x, noisy_signal)"
      ],
      "execution_count": null,
      "outputs": []
    },
    {
      "cell_type": "code",
      "metadata": {
        "id": "wogmU0d79nl4"
      },
      "source": [
        ""
      ],
      "execution_count": null,
      "outputs": []
    },
    {
      "cell_type": "markdown",
      "metadata": {
        "id": "LtJ-FfgX9nl5"
      },
      "source": [
        "To plot two columns and one row..."
      ]
    },
    {
      "cell_type": "code",
      "metadata": {
        "id": "N4dauRwK9nl5"
      },
      "source": [
        "x = np.linspace(0, 2*np.pi, 100)\n",
        "signal = np.sin(x)\n",
        "noise = np.random.rand(len(signal))\n",
        "noisy_signal = signal + noise\n",
        "\n",
        "fig, (ax1, ax2) = plt.subplots(1,2)\n",
        "ax1.plot(x, signal)\n",
        "ax2.plot(x, noisy_signal)"
      ],
      "execution_count": null,
      "outputs": []
    },
    {
      "cell_type": "markdown",
      "metadata": {
        "id": "CH87zhgS9nl6"
      },
      "source": [
        "You can adjust the figure size with an optional parameter to subplot()."
      ]
    },
    {
      "cell_type": "code",
      "metadata": {
        "id": "Vkmqr01S9nl6"
      },
      "source": [
        "# Note the adjustment of the figure size\n",
        "fig, (ax1, ax2) = plt.subplots(1,2, figsize=(15, 4))\n",
        "ax1.plot(x, signal)\n",
        "ax2.plot(x, noisy_signal)"
      ],
      "execution_count": null,
      "outputs": []
    },
    {
      "cell_type": "markdown",
      "metadata": {
        "id": "zTktAbUE9nl7"
      },
      "source": [
        "### Student Task 3 \n",
        "***Plot the profile line above the contour plot in a matplotlib combination plot.***"
      ]
    },
    {
      "cell_type": "markdown",
      "metadata": {
        "id": "OfxZONgp9nl7"
      },
      "source": [
        "***How would the contours look in plane view on the surface? How would this compare with contours measured over the sulfide body? How could you improve the fit?***"
      ]
    },
    {
      "cell_type": "markdown",
      "metadata": {
        "id": "JHZePpBb9nl7"
      },
      "source": [
        "## Diffusion Potential\n",
        "If anion and cation mobilities are the same, the diffusion potential is given by the Nerst potential:\n",
        "\n",
        "$$ E_N = \\frac{-RT}{nF}ln(C_1/C_2) $$\n",
        "\n",
        "where R is the universal gas constant $ R = 8.314 JK^{-1}mol^{-1}$, T is absolute temperature (K), n is ionic valence, and F is Faraday's constant $F = 96487 C mol^{-1}$ and $C_1$ and $C_1$ are concentrations.\n",
        "\n",
        "### Student Task 4\n",
        "\n",
        "Plot $E_N$ for n=1 and T = 293K as a function of $C_1/C_2$ where the concentration ratio varies from 1 to five orders of magnitude in uniform steps in log space. Express the vertical axes in millivolts."
      ]
    },
    {
      "cell_type": "code",
      "metadata": {
        "id": "fCbk9NCU9nl8"
      },
      "source": [
        ""
      ],
      "execution_count": null,
      "outputs": []
    }
  ]
}