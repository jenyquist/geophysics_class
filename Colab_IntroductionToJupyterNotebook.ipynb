{
  "nbformat": 4,
  "nbformat_minor": 0,
  "metadata": {
    "kernelspec": {
      "display_name": "Python 3",
      "language": "python",
      "name": "python3"
    },
    "language_info": {
      "codemirror_mode": {
        "name": "ipython",
        "version": 3
      },
      "file_extension": ".py",
      "mimetype": "text/x-python",
      "name": "python",
      "nbconvert_exporter": "python",
      "pygments_lexer": "ipython3",
      "version": "3.8.8"
    },
    "colab": {
      "name": "Colab-IntroductionToJupyterNotebook.ipynb",
      "provenance": [],
      "collapsed_sections": [],
      "include_colab_link": true
    }
  },
  "cells": [
    {
      "cell_type": "markdown",
      "metadata": {
        "id": "view-in-github",
        "colab_type": "text"
      },
      "source": [
        "<a href=\"https://colab.research.google.com/github/jenyquist/geophysics_class/blob/main/Colab_IntroductionToJupyterNotebook.ipynb\" target=\"_parent\"><img src=\"https://colab.research.google.com/assets/colab-badge.svg\" alt=\"Open In Colab\"/></a>"
      ]
    },
    {
      "cell_type": "markdown",
      "metadata": {
        "id": "QC3ovhTg_m03"
      },
      "source": [
        "## An Introduction to Python and  Jupyter Notebooks for Geologists\n",
        "\n",
        "**What is Python?**\n",
        "\n",
        "Python is a free, easy to learn, open source, general purpose programming language used for all sorts of applications, but it is a growing favorite in the scientific communitiy because it provides access to a large assortment of powerful science, mathematical and visualization libraries. This is not a programming class, but by the end you will be coding your own functions and feeling vastly superior to the poor slobs stuck using Excel.\n",
        "\n",
        "***Why not Matlab***\n",
        "So why not Matlab? Matlab was the weapon of choice in previous editions of this class. Matlab is great. Matlab is powerful. Matlab is proprietary and EXPENSIVE. \n",
        "\n",
        "At Temple you can download and install Matlab for free, but in the working world your boss may balk at the price tag of thousands of dollars per year. Python is free and open source, can do everything that Matlab can do, and as a general purpose programming language it can be used for tasks such as web development where Matlab is useless. \n",
        "\n",
        "Python takes a little longer to learn, but learning to program in python is more likely to benefit your career in the long run. That said, if you prefer, feel free to work all the homework problems in Matlab. I used to prefer matlab, but now:\n",
        "\n",
        "## <p style=\"text-align: center;\">I ♥ Python!</p>\n"
      ]
    },
    {
      "cell_type": "markdown",
      "metadata": {
        "id": "LsMeIdu__m06"
      },
      "source": [
        "### What is an Jupyter Notebook?\n",
        "\n",
        "What you are looking at currently is an Jupyter Notebook.  It is a web browser that is communicating with a python kernel (an actively running python server) and automatically formatting the output.  Everything divided into cells that can be executed one at a time, or run all together.  Notebooks allow for text, equations, data, code and graphs to be interwoven into a living document anyone can copy and run for free -- truly open and reproducible science -- and it is easy to export the whole notebook as a PDF for printing!\n",
        "\n",
        "By the way, the naame \"Jupyter\" is a combination of **Ju**lia, **Py**thon and **R**: three distinct programming languages that can be configured to run in Jupyter notebooks. It is even possible to use multiple languages in the same notebook. In this class we'll stick to python. One language is enough to learn!"
      ]
    },
    {
      "cell_type": "markdown",
      "metadata": {
        "id": "3ziCzWQW_m07"
      },
      "source": [
        "### Markdown text cells vs. code cells\n",
        "\n",
        "Each cell can either contain text (headers and markdown formatted text) or executable code.  This cell is a Markdown cell (cell type is displayed in the toolbar at the top).  In a markdown cell I can include simple emphasis such as **bold face** and *italics.*  Double click this cell to see the markdown raw text.  Then hit shift-enter to run the cell so the formatting will be interpreted by the server. Any cell can be executed by typing shift-enter.\n",
        "\n",
        "Now try creating your own text cell by clicking on this cell and then inserting a new cell below it by clicking on Insert, Cell Below from the menu above.  Notice that by default any new cell a \"code\" cell, ready for python commands.  Click on the dropdown button next to code and change it to a \"markdown\" cell and enter some text.  Try some markdown formatting commands.  [Here](https://www.markdownguide.org/basic-syntax/) is a simple summary.  (And you can double click on this cell to see how I inserted the hyperlink.\n",
        "\n",
        "Because markdown supports unicode, you can even insert emoticons! You just need to cut and paste them from some site such as [this one](https://www.vertex42.com/ExcelTips/unicode-symbols.html#emoticons). 😉"
      ]
    },
    {
      "cell_type": "markdown",
      "metadata": {
        "id": "nmzYxDHM_m07"
      },
      "source": [
        "### Insert your sample text cell below this cell:"
      ]
    },
    {
      "cell_type": "markdown",
      "metadata": {
        "id": "1_UHIIm-_m08"
      },
      "source": [
        "### Code cells\n",
        "Now insert a cell below this one, only leave it as a code cell. And try typing the following lines of python code:\n",
        "\n",
        "    a = 2\n",
        "    b = 3\n",
        "    c = a + b\n",
        "    print(c)\n",
        "    \n",
        "Python is an interpreted language, meaning that you don't have to compile your program; each cell executes right after hit shift-enter.  So here we've defined two variables, a and b, summed them, and printed the result.\n",
        "\n",
        "Easy peasy.\n",
        "\n",
        "The rest of this exercise we will learn more about Jupyter Notebooks and python programming by working to perform your first geophysical calculation."
      ]
    },
    {
      "cell_type": "markdown",
      "metadata": {
        "id": "BU9oVc4S_m08"
      },
      "source": [
        "### How attracted are you to your neighbor?\n",
        "\n",
        "We are going to start our journey by calculaing the force between you and a classmate using Newton's Law of Gravity:\n",
        "\n",
        "$$ F = G\\frac{m_1 m_2}{r^2}$$\n",
        "\n",
        "First, let's set the parameters in a code cell. Note that Python ignores anything on a line after the # sign, so we can insert comments to remind ourselves or tell others what the code does.\n",
        "(Also note that we can stick equations into markdown cells.  But that is a lesson for another day...)"
      ]
    },
    {
      "cell_type": "code",
      "metadata": {
        "id": "SfAqRpb-_m09"
      },
      "source": [
        "m1 = 180     # Masses are in lbs, we will need to convert to mks units later.\n",
        "m2 = 120\n",
        "G = 6.67e-11 # Already in mks\n",
        "r = 1        # Assume you and your classmate are one meter apart"
      ],
      "execution_count": null,
      "outputs": []
    },
    {
      "cell_type": "markdown",
      "metadata": {
        "id": "dkIJzwYl_m0-"
      },
      "source": [
        "Remember to run each cell by clicking it and then hitting shift-enter. Also note that # introduces a comment. Python ignores anything after a # sign, whether is on a line by itself or after some code. Comments document your code.\n",
        "\n",
        "Next we convert the masses to kilograms."
      ]
    },
    {
      "cell_type": "code",
      "metadata": {
        "id": "ZMeHAk3q_m0_"
      },
      "source": [
        "m1 /= 2.2  # Note: 1 kg = 2.2 lbs\n",
        "m2 /= 2.2\n",
        "\n",
        "# Print the mass in kg\n",
        "print(m1, m2)"
      ],
      "execution_count": null,
      "outputs": []
    },
    {
      "cell_type": "markdown",
      "metadata": {
        "id": "H401l0cT_m1A"
      },
      "source": [
        "What is the /=?  Well, a very common thing to do is to change a variable and shove the result right back into the same variable.  So we could\n",
        "write:\n",
        "\n",
        "m1 = m1/2.2\n",
        "\n",
        "Which says take whatever is in m1, divide it by 2.2 and shove it back into m1. This would run fine in python.   The /= is shorthand notation.\n",
        "\n",
        "What to do you think this means?\n",
        "\n",
        "x += 4"
      ]
    },
    {
      "cell_type": "raw",
      "metadata": {
        "id": "_-HVwrsa_m1A"
      },
      "source": [
        "Execute this code in the cell below:\n",
        "x = 1\n",
        "x += 4\n",
        "print(x)"
      ]
    },
    {
      "cell_type": "code",
      "metadata": {
        "id": "s-SVF_Yp_m1A"
      },
      "source": [
        ""
      ],
      "execution_count": null,
      "outputs": []
    },
    {
      "cell_type": "markdown",
      "metadata": {
        "id": "2jiD-OHq_m1B"
      },
      "source": [
        "Returning to the gravity problem, we can now calculate the force of attraction."
      ]
    },
    {
      "cell_type": "code",
      "metadata": {
        "id": "cGScxCQQ_m1B"
      },
      "source": [
        "F = G * m1 * m1 / r**2\n",
        "print(F)"
      ],
      "execution_count": null,
      "outputs": []
    },
    {
      "cell_type": "markdown",
      "metadata": {
        "id": "omjixPGo_m1B"
      },
      "source": [
        "Since we converting everything to mks units, answer is a force in Newtons.  Now big is this force? Let's calculate the mass of an object that would exert the equivalent force if it rested on your hand.  The force of gravity would be F = ma = mg where the gravitational attraction at the surface of the earth is about 9.81 $m/s^2$.  \n",
        "\n",
        "Setting the two forces equal, we can divide by g to get the mass that would weight that same as the attraction between you and your neighbor."
      ]
    },
    {
      "cell_type": "code",
      "metadata": {
        "id": "uQaY70FE_m1C"
      },
      "source": [
        "g = 9.81\n",
        "m = F/g\n",
        "print(m)"
      ],
      "execution_count": null,
      "outputs": []
    },
    {
      "cell_type": "markdown",
      "metadata": {
        "id": "NvR-Ct7l_m1C"
      },
      "source": [
        "This is the mass in kilograms. Mulitply by 1000 to get grams and again by a millon to get micrograms."
      ]
    },
    {
      "cell_type": "code",
      "metadata": {
        "id": "VHn8O7in_m1C"
      },
      "source": [
        "m_in_ug = m * 1000 * 1000000\n",
        "print(m_in_ug)"
      ],
      "execution_count": null,
      "outputs": []
    },
    {
      "cell_type": "markdown",
      "metadata": {
        "id": "PFpxB6bH_m1C"
      },
      "source": [
        "So the pull from your neighbor is equivalent to a mass of about 45 micrograms resting in your hand.  I'd say your neighbor isn't very attractive! (Funny, they say the same about you. 😜 )"
      ]
    },
    {
      "cell_type": "markdown",
      "metadata": {
        "id": "RM-oO2he_m1C"
      },
      "source": [
        "**More Than a Fancy Calculator**\n",
        "\n",
        "I know what you're thinking.  I could have done this easier with a calculator or a spreadsheet.  Fine. Be that way.  Okay, I'll admit that Python doesn't start to shine until things get a little more complicated. \n",
        "\n",
        "Let's say I asked you to plot the increase in gravitational attraction with every centimeter as the other person closed the gap from 100 cm to 30 cm  (You can't smush together much closer.  We're talking here about the relative separation of your centers of mass.)  This would take you a quite while on your calculator, and although you could do it in a spreadsheet by defining formulas for a range of cells look how easy it is in Python!\n",
        "\n",
        "First we change r into a vector.  To do that we need to digress into a brief discussion of Python modules.\n"
      ]
    },
    {
      "cell_type": "markdown",
      "metadata": {
        "id": "EE3FdBzC_m1D"
      },
      "source": [
        "### Modules:  a brief but important digression\n",
        "Rather than load everything you could conceivably need into memory at the start, Python has collections of useful functions that you can load as needed. Why load numerical libraries when your doing, say, web development. One module we will use a lot in this class is the Numerical Python library affectionately call \"numpy\". \n",
        "\n",
        "NUMerical PYthon, get it?  \n",
        "\n",
        "When we import numpy we have access to all of its functions using the \"dot\" notation.  For example:"
      ]
    },
    {
      "cell_type": "code",
      "metadata": {
        "id": "gO4l0bhe_m1D"
      },
      "source": [
        "import numpy\n",
        "a = numpy.random.randn(5)\n",
        "print(a)"
      ],
      "execution_count": null,
      "outputs": []
    },
    {
      "cell_type": "markdown",
      "metadata": {
        "id": "ofqBf2tn_m1D"
      },
      "source": [
        "What did that just do?\n",
        "* First we imported the numpy module, all of it.\n",
        "* Then executed a a numpy module function \"randn\" which produces normally distributed random numbers with a mean of 0 and a standard deviation of 1.  We asked for 5 of them and stuck the resulting array of five numbers into the variable a.\n",
        "* Then we printed a.\n",
        "\n",
        "Note that randn is in a subpackage of numpy called random, hence we had to chain the dots when we made the function call. numpy.random.randn(5) means pass a parameter of 5 to the randn() function in the submodule random for the module numpy.  It's a bit like giving the address where the function lives.  Python has oodles and oodles of modules, but you only import what you need.\n",
        "\n",
        "By the way, since randn returns random numbers, you will get a different answer every time you run the cell. Try it!"
      ]
    },
    {
      "cell_type": "markdown",
      "metadata": {
        "id": "sn-S79Yr_m1D"
      },
      "source": [
        "Alternatively, we can shorten things up by loading numpy with an abbreviated name of our choosing.  People usually load it as np.  This abbreviation is so common it is virtually automatic. \n",
        "\n",
        "So this next cell does the same thing as the last one.  We just gave numpy a cute little nickname, \"np\". "
      ]
    },
    {
      "cell_type": "code",
      "metadata": {
        "id": "41qobrUP_m1E"
      },
      "source": [
        "import numpy as np\n",
        "a = np.random.randn(5)\n",
        "print(a)"
      ],
      "execution_count": null,
      "outputs": []
    },
    {
      "cell_type": "markdown",
      "metadata": {
        "id": "zbVTvwcN_m1E"
      },
      "source": [
        "If Dr. Terry were a python module we'd probably type:\n",
        "\n",
        "import dennis_terry as dt\n",
        "😁"
      ]
    },
    {
      "cell_type": "markdown",
      "metadata": {
        "id": "TN3xQjTW_m1E"
      },
      "source": [
        "Once you've imported a module, you can use the help() to learn more about any function."
      ]
    },
    {
      "cell_type": "code",
      "metadata": {
        "id": "yRiqQX3X_m1E"
      },
      "source": [
        "help(np.random.randn)"
      ],
      "execution_count": null,
      "outputs": []
    },
    {
      "cell_type": "markdown",
      "metadata": {
        "id": "i32xOxAY_m1F"
      },
      "source": [
        "To summarize. You figure out what module has the functions you need, import it, and use the dot notation to access the function you need."
      ]
    },
    {
      "cell_type": "markdown",
      "metadata": {
        "id": "Ip9iOdwi_m1F"
      },
      "source": [
        "## End of digression on modules. Back to our calculation...\n",
        "\n",
        "We use numpy's arange (array-range) command to create an array of numbers from 0.3 to 1.0 in steps of 0.01 (1 cm)."
      ]
    },
    {
      "cell_type": "code",
      "metadata": {
        "id": "9Cu8o313_m1F"
      },
      "source": [
        "import numpy as np\n",
        "r = np.arange(0.3,1.0,.01)\n",
        "print(r)"
      ],
      "execution_count": null,
      "outputs": []
    },
    {
      "cell_type": "markdown",
      "metadata": {
        "id": "kQi5WYhA_m1F"
      },
      "source": [
        "**Wait!** The array only goes to 0.99 not 1.0 m?  What happened?  Whenever you tell Python to loop from a to b it uses the range $ a <= x < b$.  It stops one increment short of the upper bound.  Thus if you tell python to loop over integers from 0 to 5 with a command such as range(5), you will get [ 0, 1, 2, 3, 4].  Including 5 would actually give you 6 values, so python stops at 4.  You need to know this looping convention or it will bite you at some point. \n",
        "\n",
        "Matlab starts loops at one instead of zero, which is one of the headaches of going back and forth between python and matlab. In the world of programming, there are many examples of both zero-based and one-based indexing of arrays."
      ]
    },
    {
      "cell_type": "markdown",
      "metadata": {
        "id": "yfhcsp8q_m1F"
      },
      "source": [
        "### Here comes the magic bit..."
      ]
    },
    {
      "cell_type": "code",
      "metadata": {
        "scrolled": true,
        "id": "Gp2Os5TL_m1F"
      },
      "source": [
        "F = G * m1 * m2 / r**2\n",
        "print(F)"
      ],
      "execution_count": null,
      "outputs": []
    },
    {
      "cell_type": "markdown",
      "metadata": {
        "id": "SRtcy242_m1G"
      },
      "source": [
        "That's right!  Python did the calculation automatically for all the values in the array r. This is called \"vectorizing\" or \"broadcasting\" the calculation.  \n",
        "\n",
        "Now to plot the data we will import the basic xy-plotting routine from a python module called matplotlib with another standard abbreviated name.  The \"inline\" command tells Jupyter to plot in the notebook instead of a pop-up window. Lines starting with a % symbol are \"magic\" commands to the Juypter notebook, not part of the python language."
      ]
    },
    {
      "cell_type": "code",
      "metadata": {
        "id": "v_5XAjWM_m1G"
      },
      "source": [
        "import matplotlib.pyplot as plt  # Note the alias\n",
        "\n",
        "# This is so the plot will appear here an not in a pop-up window.\n",
        "%matplotlib inline               \n",
        "\n",
        "# Now make the plot\n",
        "plt.plot(r,F,'*-')\n",
        "plt.xlabel('Distance(m)')\n",
        "plt.ylabel('Force (N)')\n",
        "plt.show()"
      ],
      "execution_count": null,
      "outputs": []
    },
    {
      "cell_type": "markdown",
      "metadata": {
        "id": "7rSswSu0_m1G"
      },
      "source": [
        "The plot command works as you'd expect except for the '\\*-' which means mark the points with an '\\*' and connect them with a line.  The result is an inverse square falloff in force with distance as expected for Newton's Law.\n",
        "\n",
        "Notice the matplotlib.pyplot module has functions for plotting, labeling axes, and much more. You'll be come quite familiar with matplotlib by the end of this course.\n",
        "\n",
        "BTW, this graphing graphing library is called \"matplotlib\" because it was modeled after the plotting commands used in Matlab, so it will seem familiar if you know Matlab. Mind you, there are many other plotting libraries available in Python, but matplotlib is a solid one to learn and very capable. "
      ]
    },
    {
      "cell_type": "markdown",
      "metadata": {
        "id": "Q-y8B-0n_m1G"
      },
      "source": [
        "## Your Challenge\n",
        "Let's see if you've learned enough to solve a simple geologic problem using a Python notebook.\n",
        "\n",
        "Stoke's law gives the steady-state velocity of a small spherical object falling through a liquid. This is the velocity where the downward force of gravity and the upward force of vicous drag are equal, so there is no further accelation and the particle falls at a constant velocity. It explains why larger sediments settles out first when, for example when a river delta forms.\n",
        "\n",
        "![Stoke's Law](https://www.researchgate.net/profile/Wessam_Abd_Allah/publication/308792252/figure/fig5/AS:413026915241984@1475484698160/Estimating-viscosity-method-From-Stokes-Law-a-graph-of-v-against-r-2-plotted-and.png)\n",
        "\n",
        "\n",
        "$$ V = g(d1-d2)D^2/18μ $$\n",
        "\n",
        "\n",
        "Where v is the velocity, μ is the viscosity, g = the gravitational acceleration at the earth's surface, d1 is the density of the solid, and d2 is the density of water, and D is the diameter of the particle. Note that if d1 is less than d2, the particle floats, so the velocity is negative (toward the surface).\n",
        "\n",
        "1.\tCalculate the settling velocity of 1 mm sand grain.  Use a density of 2600 kg/$m^3$ for the sand, 1000 kg/$m^3$ for the water, and a viscosity of 0.00905 kg/ms for water.  (Watch out for units.  Put everything in MKS first.)\n",
        "2.\tCalculate the settling velocity of a 100 cm chunk of quartz falling through a giant tub of peanut butter (Now that's what I call chunky!).  Use a viscosity for peanut butter of 2500 Poise (kg/ms) (It's amazing what you can find on the web!).  The density of peanut butter is 1.1518 gm/cc.  (I had to figure this one out myself.)\n",
        "3.\tYour final exercise is to plot the depth the rock sinks into the peanut butter as a function of time every second for 0 to 10 minutes. \n",
        "\n",
        "Insert cells below as needed.  Don't peek at the answer until you've given it your best shot.\n",
        "\n",
        "*Always ask yourself if your answer seems reasonable!*"
      ]
    },
    {
      "cell_type": "code",
      "metadata": {
        "id": "-k266F8G_m1G"
      },
      "source": [
        ""
      ],
      "execution_count": null,
      "outputs": []
    },
    {
      "cell_type": "markdown",
      "metadata": {
        "id": "ua6O17aR_m1G"
      },
      "source": [
        "------\n",
        "\n",
        "### Answers if you get really stuck"
      ]
    },
    {
      "cell_type": "code",
      "metadata": {
        "id": "MgoA5z8G_m1H"
      },
      "source": [
        "# Part 1.\n",
        "# Define the variables\n",
        "d1 = 2600\n",
        "d2 = 1000\n",
        "g = 9.81\n",
        "D = 0.001\n",
        "mu = 0.00905\n",
        "\n",
        "# Write the equation\n",
        "v = g*(d1-d2)*D**2/(18*mu)\n",
        "print(v)\n"
      ],
      "execution_count": null,
      "outputs": []
    },
    {
      "cell_type": "markdown",
      "metadata": {
        "id": "l7QtodqV_m1H"
      },
      "source": [
        "A velocity of 9 cm/sec for sand falling through water is plausible."
      ]
    },
    {
      "cell_type": "code",
      "metadata": {
        "id": "Jc5giKQ__m1H"
      },
      "source": [
        "# Part 2.\n",
        "# Define the variables\n",
        "d1 = 2600\n",
        "d2 = 1151.8\n",
        "g = 9.81\n",
        "D = 0.1\n",
        "mu = 2500\n",
        "\n",
        "# Write the equation\n",
        "v = g*(d1-d2)*D**2/(18*mu)\n",
        "print(v)"
      ],
      "execution_count": null,
      "outputs": []
    },
    {
      "cell_type": "markdown",
      "metadata": {
        "id": "K89Brft9_m1H"
      },
      "source": [
        "Does a rock sinking into PB as 3 mm/sec sound about right?"
      ]
    },
    {
      "cell_type": "code",
      "metadata": {
        "id": "YJFORyyZ_m1H"
      },
      "source": [
        "# Part 3.\n",
        "# Note the velocity is constant, so we expect the plot to be linear.\n",
        "# Note we don't have to import matplotlib since we did so earlier, but we would if executed the cells out of order.\n",
        "\n",
        "t = np.arange(0,10*60,1)\n",
        "y = v * t\n",
        "plt.plot(t,y,'-')  # The \"-\" tell matplot line to connect points with a line.\n",
        "plt.xlabel('Time (sec)')\n",
        "plt.ylabel('Distance the rock sinks (m)')\n",
        "plt.show()"
      ],
      "execution_count": null,
      "outputs": []
    },
    {
      "cell_type": "markdown",
      "metadata": {
        "id": "sSArppdm_m1H"
      },
      "source": [
        "***Learn a lot?*** I hope this exercise didn't intimidate you. All of the concepts will become familiar through practice."
      ]
    },
    {
      "cell_type": "code",
      "metadata": {
        "id": "yLjndNYq_m1H"
      },
      "source": [
        ""
      ],
      "execution_count": null,
      "outputs": []
    }
  ]
}