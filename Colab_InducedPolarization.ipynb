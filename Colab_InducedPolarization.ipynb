{
  "nbformat": 4,
  "nbformat_minor": 0,
  "metadata": {
    "kernelspec": {
      "display_name": "Python 3",
      "language": "python",
      "name": "python3"
    },
    "language_info": {
      "codemirror_mode": {
        "name": "ipython",
        "version": 3
      },
      "file_extension": ".py",
      "mimetype": "text/x-python",
      "name": "python",
      "nbconvert_exporter": "python",
      "pygments_lexer": "ipython3",
      "version": "3.7.4"
    },
    "colab": {
      "name": "Colab-InducedPolarization.ipynb",
      "provenance": [],
      "collapsed_sections": [],
      "include_colab_link": true
    }
  },
  "cells": [
    {
      "cell_type": "markdown",
      "metadata": {
        "id": "view-in-github",
        "colab_type": "text"
      },
      "source": [
        "<a href=\"https://colab.research.google.com/github/jenyquist/geophysics_class/blob/main/Colab_InducedPolarization.ipynb\" target=\"_parent\"><img src=\"https://colab.research.google.com/assets/colab-badge.svg\" alt=\"Open In Colab\"/></a>"
      ]
    },
    {
      "cell_type": "markdown",
      "metadata": {
        "id": "ZhR_RKts8IEf"
      },
      "source": [
        "# Induced Polarization (IP)\n",
        "Our discussion of resistivity has focused on direct current (DC) resistivity.  Induced potential (IP) is an effect that shows up when the current is not steady over time.  The ground can no longer be thought of as simply current flowing through a resistor; you must also include the effects of capacitance – the ground acts more like a transmission cable.  The equivalent circuit looks like this:\n",
        "[![Screen-Shot-2019-06-12-at-7-14-14-PM.png](https://i.postimg.cc/3xQBr3SK/Screen-Shot-2019-06-12-at-7-14-14-PM.png)](https://postimg.cc/GHzYqnnN)"
      ]
    },
    {
      "cell_type": "markdown",
      "metadata": {
        "id": "jbeziqwa8IEi"
      },
      "source": [
        "### Time Domain\n",
        "***Recall that a capacitor stores charge.  When the current first starts to flow charge builds up on a capacitor until the capacitor is fully charged.  When the current is switched off the capacitor discharges, acting like a tiny battery to keep the current flowing a bit longer.  The groundwater analogy to this is storativity, which like capacitance only becomes important in transient flow.***\n",
        "\n",
        "****Recall that the voltage at for a resistor in series with a capacitor, the capacitor charges exponentially according to the formula:***\n",
        "\n",
        "$$\n",
        "q = CV(1-e^{-1/RC})\n",
        "$$\n",
        "\n"
      ]
    },
    {
      "cell_type": "markdown",
      "metadata": {
        "id": "QgcdftLX8IEj"
      },
      "source": [
        "## Student Task 1\n",
        "***Plot q as a function of time for V=100, R=2000 ohms and C = 6.0e-6 F.  What is the value of the RC time constant? (Hint: This should give you an idea of the time range to plot.) Try varying the values of the RC time constant to see how this affects your plot.***\n",
        "\n",
        "\n",
        "***You should hopefully be getting to the point where you can encode an equation link this yourself. I will give you the shell and you fill in the function.***"
      ]
    },
    {
      "cell_type": "code",
      "metadata": {
        "id": "1qBN5TRy8IEk"
      },
      "source": [
        "import numpy as np\n",
        "\n",
        "def charge(t, V, R, C):\n",
        "    #Your code goes here\n",
        "    return q\n",
        "\n",
        "V = 100\n",
        "R = 2000\n",
        "C = 6.0e-6\n",
        "t = np.linspace(0,.12,100)\n",
        "q = charge(t, V, R, C)\n",
        "\n",
        "fig, ax = plt.subplots()\n",
        "ax.plot(t, q)\n",
        "ax.set_title(\"Discharging Capacitor\")\n",
        "ax.set_xlabel(\"Time(s)\")\n",
        "ax.set_ylabel(\"Charge (coulombs)\")"
      ],
      "execution_count": null,
      "outputs": []
    },
    {
      "cell_type": "markdown",
      "metadata": {
        "id": "hfroExuX8IEl"
      },
      "source": [
        "### Student Task\n",
        "***When the voltage is turned off the capacitor discharges as:***\n",
        "$$\n",
        "q = CVe^{-t/RC}\n",
        "$$\n",
        "\n",
        "***Plot this equation for the same values of R and C that you used above.***"
      ]
    },
    {
      "cell_type": "code",
      "metadata": {
        "id": "d0dVCTIv8IEl"
      },
      "source": [
        "# This time is is all yours...."
      ],
      "execution_count": null,
      "outputs": []
    },
    {
      "cell_type": "markdown",
      "metadata": {
        "id": "BnWG6nh98IEm"
      },
      "source": [
        "***One way to measure the IP effect is to apply a voltage to the current electrodes and then measure the voltages at the potential electrodes as a function of time to capture this exponential rise and fall.  This will give you the value of the RC time constant.***  \n",
        "\n",
        "### How will you calculate the value of C and R separately from this information?"
      ]
    },
    {
      "cell_type": "markdown",
      "metadata": {
        "id": "3bn-_EKa8IEn"
      },
      "source": [
        "## Frequency Domain\n",
        "***There is a second way to measure the IP effect.  Suppose I send waveforms with two different frequencies down my transmission line.  Will I get the same resistance?  Let's examine the equivalent circuit to see what is going on.***\n",
        "\n",
        "$$\n",
        "\\frac{RX_c}{R+X_c} = \\frac{R/\\omega C} {R + 1/\\omega C} = \\frac{R}{1 + \\omega RC}\n",
        "$$\n",
        "\n",
        "***Ohm's law: V=IR.  But with a capacitor we have a resistance and a capacitive reactance Xc in parallel (charge can either flow through the resistor or charge the capacitor).  Because they are in parallel the capacitive reactance and the resistance add as resistances \n",
        "in parallel.***\n"
      ]
    },
    {
      "cell_type": "markdown",
      "metadata": {
        "id": "bmIdmGCP8IEo"
      },
      "source": [
        "### Student Task\n",
        "***Plot this expressive as a function of frequency for the same values of R and C.  Note: This implies that the resistance of the ground is frequency dependent.***"
      ]
    },
    {
      "cell_type": "markdown",
      "metadata": {
        "id": "84cGbHkp8IEo"
      },
      "source": [
        "***Thus, we have seen that there are two consequences of the ground’s ability to store charge:**(\n",
        "\n",
        "The first is apparent if we look at the waveform as a function of time.  \n",
        "\n",
        "The second is apparent if we look at the waveform as a function of frequency.  \n",
        "\n",
        "In practice, both methods are used to measure IP.  The first is called measuring the \"chargeability\", M, expressed as the ratio of the voltage some time after shut-off to the initial voltage and expressed in mV/V.  The second is called (surprise!) the \"frequency effect.\"  It is the dimensionless ratio:***\n",
        "\n",
        "$$\n",
        "FE = \\frac{\\rho_{a0} - \\rho_{a1}}{\\rho_{a1}}\n",
        "$$\n",
        "\n",
        "***Where the numerator is the difference between the resistivities measured at the two frequencies.***\n",
        "\n",
        "Even though these quantities have different units and are measured in different ways, they are related the same thing, which is the ability of the ground to store charge – the ground's \"charge storativity,\" to coin a phrase. \n",
        "\n",
        "There is a direct analogy with transcient groundwater flow where water can go in and out of storage. \n",
        "\n",
        "\n",
        "\"Lowering of the water table in an unconfined aquifer leads to the release of water stored in interstitial openings by gravity drainage.\" (http://www.aqtesolv.com/aquifer-tests/aquifer_properties.htm)\n",
        "\n",
        "![](http://www.aqtesolv.com/images/Ferris_Fig_18B.gif)"
      ]
    },
    {
      "cell_type": "markdown",
      "metadata": {
        "id": "dx8Hewgv8IEp"
      },
      "source": [
        "## Mini Python Lesson If you have time.  Could help with the problem set (hint, hint)."
      ]
    },
    {
      "cell_type": "markdown",
      "metadata": {
        "id": "wX1x8tyw8IEq"
      },
      "source": [
        "## Infinite sums, loops and python\n",
        "\n",
        "### Zeno's Paradoxes\n",
        "One of the problems in Pset #2 involves an infinite summation. How do we handle that? To explore this, we study Zeno's Paradox. Quoting form Wikipedia:\n",
        "\n",
        "\"Zeno's paradoxes are a set of philosophical problems generally thought to have been devised by Greek philosopher Zeno of Elea (c. 490–430 BC) to support Parmenides' doctrine that contrary to the evidence of one's senses, the belief in plurality and change is mistaken, and in particular that motion is nothing but an illusion.\"\n",
        "\n",
        "Here is one of the arguments:\n",
        "\n",
        "\"Suppose Homer wishes to walk to the end of a path. Before he can get there, he must get halfway there. Before he can get halfway there, he must get a quarter of the way there. Before traveling a quarter, he must travel one-eighth; before an eighth, one-sixteenth; and so on.\"\n",
        "\n",
        "This is an infinite sum:\n",
        "\n",
        "$$ 1/2 + 1/4 + 1/8 + 1/16 + ... $$\n",
        "\n",
        "![](https://itotd.com/files/2018/05/Zeno_Dichotomy_Paradox-696x331.png)\n",
        "Image credit: https://itotd.com/articles/2971/zenos-paradoxes/\n",
        "\n",
        "Zeno's argument was that we are summing an infinite number of terms, all of which are bigger than zero, so the sum must be infinite,right?  Poor Homer can never reach the end of his path.\n",
        "\n",
        "In mathematical notation, the claim is\n",
        "that \n",
        "\n",
        "$$ \\sum_{n=1}^\\infty \\frac{1}{2^n} = \\infty $$\n",
        "\n",
        "But does it?\n",
        "\n",
        "### Let us leave Zeno for a moment..."
      ]
    },
    {
      "cell_type": "markdown",
      "metadata": {
        "id": "ztn-W4-v8IEq"
      },
      "source": [
        "### A brief introduction to loops\n",
        "\n",
        "Python loops over collections of things."
      ]
    },
    {
      "cell_type": "code",
      "metadata": {
        "id": "02fsBwWN8IEr"
      },
      "source": [
        "class_list = [\"Alex\", \"Naomi\", \"Louise\", \"Tyler\", \"Morgan\", \n",
        "                 \"Paula\", \"Nolan\", \"Pouya\", \"Paul\", \"Kyle\", \n",
        "                 \"Asleigh\", \"JoAnna\"]\n",
        "for student in class_list:\n",
        "    print(student)"
      ],
      "execution_count": null,
      "outputs": []
    },
    {
      "cell_type": "markdown",
      "metadata": {
        "id": "rqOCnkRD8IEr"
      },
      "source": [
        "If we want to loop over numbers we can use numpy's arange function."
      ]
    },
    {
      "cell_type": "code",
      "metadata": {
        "id": "3FCAzrwl8IEr"
      },
      "source": [
        "import numpy as np\n",
        "\n",
        "for x in np.arange(1,11):\n",
        "    print(x)"
      ],
      "execution_count": null,
      "outputs": []
    },
    {
      "cell_type": "markdown",
      "metadata": {
        "id": "NS8TJzp38IEs"
      },
      "source": [
        "To loop over the names and get an index for each one we can use enumerate(), which is handy if we wanted to assign result to the corresponding elements in a list or array."
      ]
    },
    {
      "cell_type": "code",
      "metadata": {
        "id": "eewIXj9J8IEs"
      },
      "source": [
        "for i, name in enumerate(class_list): \n",
        "    print(i, name)"
      ],
      "execution_count": null,
      "outputs": []
    },
    {
      "cell_type": "markdown",
      "metadata": {
        "id": "LmMpZ8qu8IEs"
      },
      "source": [
        "But for loops are not the only loop type in Python. You can also loop while a condition is true."
      ]
    },
    {
      "cell_type": "code",
      "metadata": {
        "id": "fNOW7vCw8IEs"
      },
      "source": [
        "i = 1\n",
        "while i < 6:\n",
        "  print(i)\n",
        "  i += 1"
      ],
      "execution_count": null,
      "outputs": []
    },
    {
      "cell_type": "markdown",
      "metadata": {
        "id": "m8kazILD8IEs"
      },
      "source": [
        "The loop exits with the while condition evaluates as false, which in this case is as soon as i is no longer less than 6."
      ]
    },
    {
      "cell_type": "markdown",
      "metadata": {
        "id": "udqPs7RQ8IEt"
      },
      "source": [
        "### Back to Zeno\n",
        "This type of loop is one way to calculate and infinite sum where the terms get smaller and smaller (assuming the series converges -- not all do.)"
      ]
    },
    {
      "cell_type": "code",
      "metadata": {
        "id": "H8Uj3ram8IEt"
      },
      "source": [
        "tolerance = 1e-10\n",
        "sum = 0\n",
        "n=1\n",
        "next_term = 1\n",
        "while next_term > tolerance:\n",
        "    next_term = 1/2**n\n",
        "    sum += next_term\n",
        "    n+=1\n",
        "print(n, sum)"
      ],
      "execution_count": null,
      "outputs": []
    },
    {
      "cell_type": "markdown",
      "metadata": {
        "id": "Psp-ZGsg8IEt"
      },
      "source": [
        "Even though every term is positive, we can see that the infinite summation is converging on 1. \n",
        "\n",
        "***Busted, Zeno! Homer gets home. Marge is happy.***"
      ]
    },
    {
      "cell_type": "markdown",
      "metadata": {
        "id": "g-QYXspS8IEt"
      },
      "source": [
        "## Student Challenge\n",
        "\n",
        "Write a loop to show sum of the reciprocals of squares of integers converges to the solution below.\n",
        "\n",
        "$$ \n",
        "\\frac{1}{1} +  \\frac{1}{4} + \\frac{1}{9} + \\frac{1}{16} + ... + \\frac{1}{n^2} = \\frac{\\pi^2}{6}\n",
        "$$\n",
        "\n",
        "for n = 1 to $\\infty$.\n",
        "\n",
        "You use this series to calculate pi if you were stranded on a desert island :-)  \n",
        "\n",
        "### Bonus challenge\n",
        "How many terms in this summation would it take to calulate pi accurately to 5 decimals places?"
      ]
    },
    {
      "cell_type": "code",
      "metadata": {
        "id": "E2ygKdRq8IEt"
      },
      "source": [
        ""
      ],
      "execution_count": null,
      "outputs": []
    }
  ]
}