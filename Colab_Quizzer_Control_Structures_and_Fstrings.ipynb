{
  "nbformat": 4,
  "nbformat_minor": 0,
  "metadata": {
    "kernelspec": {
      "display_name": "Python 3",
      "language": "python",
      "name": "python3"
    },
    "language_info": {
      "codemirror_mode": {
        "name": "ipython",
        "version": 3
      },
      "file_extension": ".py",
      "mimetype": "text/x-python",
      "name": "python",
      "nbconvert_exporter": "python",
      "pygments_lexer": "ipython3",
      "version": "3.7.4"
    },
    "colab": {
      "name": "Colab_Quizzer_Control_Structures_and_Fstrings.ipynb",
      "provenance": [],
      "collapsed_sections": [],
      "include_colab_link": true
    }
  },
  "cells": [
    {
      "cell_type": "markdown",
      "metadata": {
        "id": "view-in-github",
        "colab_type": "text"
      },
      "source": [
        "<a href=\"https://colab.research.google.com/github/jenyquist/geophysics_class/blob/main/Colab_Quizzer_Control_Structures_and_Fstrings.ipynb\" target=\"_parent\"><img src=\"https://colab.research.google.com/assets/colab-badge.svg\" alt=\"Open In Colab\"/></a>"
      ]
    },
    {
      "cell_type": "markdown",
      "metadata": {
        "id": "xBj-ob_e_CJT"
      },
      "source": [
        "# Control Structures in Python\n",
        "\n",
        "Programming requires control structures.  These are used to make programs repeat tasks or make decisions about what task to perform based on user input or the results of a calculation.\n",
        "\n",
        "Let's start with a review of loops.  After all, performing the same task over and over again really fast is what these little silicon wizards do best. We will begin with a simple loop over elements in a collection (list, tuple, dictionary, set, etc.)."
      ]
    },
    {
      "cell_type": "code",
      "metadata": {
        "id": "Ej8HTPPf_CJW",
        "colab": {
          "base_uri": "https://localhost:8080/"
        },
        "outputId": "5a015c89-07e1-4450-8903-4f86f91938b8"
      },
      "source": [
        "geology_classes = [\"Hydro\", \"Geophysics\", \"Stratigraphy\", \"Structure\", \"Petrology\", \"Geochemistry\"]\n",
        "for subject in geology_classes: \n",
        "    print(subject)"
      ],
      "execution_count": 1,
      "outputs": [
        {
          "output_type": "stream",
          "text": [
            "Hydro\n",
            "Geophysics\n",
            "Stratigraphy\n",
            "Structure\n",
            "Petrology\n",
            "Geochemistry\n"
          ],
          "name": "stdout"
        }
      ]
    },
    {
      "cell_type": "markdown",
      "metadata": {
        "id": "3VNtS7Hf_CJX"
      },
      "source": [
        "Python loops over the elements in the list geology_classes, setting the variable \"subject\" (which could be any name) to the next value in the list for each pass through the loop. When the list runs out, python exits the loop.\n",
        "\n",
        "Suppose you want to loop a specific number of times. Here you can use the built in range generator, or the numpy arange() function. Let's print the numbers 0-9 and their squares."
      ]
    },
    {
      "cell_type": "code",
      "metadata": {
        "id": "Ad4tjrfU_CJY",
        "colab": {
          "base_uri": "https://localhost:8080/"
        },
        "outputId": "42d795ed-2b3e-497a-f691-76e374bd524d"
      },
      "source": [
        "for i in range(5):\n",
        "    print(i, i**2)"
      ],
      "execution_count": 2,
      "outputs": [
        {
          "output_type": "stream",
          "text": [
            "0 0\n",
            "1 1\n",
            "2 4\n",
            "3 9\n",
            "4 16\n"
          ],
          "name": "stdout"
        }
      ]
    },
    {
      "cell_type": "markdown",
      "metadata": {
        "id": "hXclDT8G_CJZ"
      },
      "source": [
        "Your loop increments do not need to be integers. Use the numpy arange generator and specify the \"stride.\""
      ]
    },
    {
      "cell_type": "code",
      "metadata": {
        "id": "1DmamLS7_CJZ",
        "colab": {
          "base_uri": "https://localhost:8080/"
        },
        "outputId": "9299aac3-8051-458c-d98f-b5b2446d0869"
      },
      "source": [
        "import numpy as np\n",
        "\n",
        "for i in np.arange(0,5,0.5):\n",
        "    print(i, i**2)"
      ],
      "execution_count": 3,
      "outputs": [
        {
          "output_type": "stream",
          "text": [
            "0.0 0.0\n",
            "0.5 0.25\n",
            "1.0 1.0\n",
            "1.5 2.25\n",
            "2.0 4.0\n",
            "2.5 6.25\n",
            "3.0 9.0\n",
            "3.5 12.25\n",
            "4.0 16.0\n",
            "4.5 20.25\n"
          ],
          "name": "stdout"
        }
      ]
    },
    {
      "cell_type": "markdown",
      "metadata": {
        "id": "IvDg9n3s_CJZ"
      },
      "source": [
        "For both the range() and arange() examples, python is still looping over a collection; you are just producing that collection within the loop declaration. Equivalently, you could write."
      ]
    },
    {
      "cell_type": "code",
      "metadata": {
        "id": "7Seay2_x_CJa",
        "colab": {
          "base_uri": "https://localhost:8080/"
        },
        "outputId": "9f59055b-3ad8-4a62-c213-449342126f93"
      },
      "source": [
        "nums = np.arange(0, 5, 0.5)\n",
        "for number in nums:\n",
        "    print(number, number**2)"
      ],
      "execution_count": 4,
      "outputs": [
        {
          "output_type": "stream",
          "text": [
            "0.0 0.0\n",
            "0.5 0.25\n",
            "1.0 1.0\n",
            "1.5 2.25\n",
            "2.0 4.0\n",
            "2.5 6.25\n",
            "3.0 9.0\n",
            "3.5 12.25\n",
            "4.0 16.0\n",
            "4.5 20.25\n"
          ],
          "name": "stdout"
        }
      ]
    },
    {
      "cell_type": "markdown",
      "metadata": {
        "id": "44s2e11n_CJb"
      },
      "source": [
        "If need the index number of the element as well as each element, use the builtin enumerate() function. Enumerate retunns a two-itme tuple containing the index number and the corresponding item for all elements in a collection. The enumerate() function loops through the objects  in the collection and for each returns a tuple of two values: the index number of the item, and the item value.  So we have to assign the results of ennumerate() to two temporary variables as shown in the example below."
      ]
    },
    {
      "cell_type": "code",
      "metadata": {
        "id": "M0vTTsxI_CJc",
        "colab": {
          "base_uri": "https://localhost:8080/"
        },
        "outputId": "5ab7cf40-72a0-4d75-daa4-636c919b2bf5"
      },
      "source": [
        "geology_classes = [\"Hydro\", \"Geophysics\", \"Stratigraphy\", \"Structure\", \"Petrology\", \"Geochemistry\"]\n",
        "for i, subject in enumerate(geology_classes): \n",
        "    print(i, subject)"
      ],
      "execution_count": 5,
      "outputs": [
        {
          "output_type": "stream",
          "text": [
            "0 Hydro\n",
            "1 Geophysics\n",
            "2 Stratigraphy\n",
            "3 Structure\n",
            "4 Petrology\n",
            "5 Geochemistry\n"
          ],
          "name": "stdout"
        }
      ]
    },
    {
      "cell_type": "markdown",
      "metadata": {
        "id": "Nvp5Gpgq_CJd"
      },
      "source": [
        "All review so far. But let's say your task was a little more complicated.  You have to compute the Fibonacci numbers up to 10.  You know the series:\n",
        "\n",
        "$ \\begin{align}\n",
        "F1 = 1 \\\\\n",
        "F2 = 1 \\\\\n",
        "F3 = F1 + F2 = 2 \\\\\n",
        "F4 =  F3 + F2 = 3 \\\\\n",
        "F5 =  F4 + F3 = 5\\\\  etc.\n",
        "\\end {align}\n",
        "$"
      ]
    },
    {
      "cell_type": "code",
      "metadata": {
        "id": "f5wNoOQA_CJd",
        "colab": {
          "base_uri": "https://localhost:8080/"
        },
        "outputId": "e4011ae9-aa11-4507-f03a-becc17ef5e8f"
      },
      "source": [
        "# Create an array to hold the first n Fibonaci numbers initiated to all zeros\n",
        "n = 10\n",
        "f = np.zeros(n)\n",
        "\n",
        "f[0] = 1\n",
        "f[1] = 1\n",
        "for j in range(2,n):\n",
        "    f[j] = f[j-1] + f[j-2]\n",
        "print(f\"The first {n} numbers in the Fibbinaci series are:\")\n",
        "print(f)"
      ],
      "execution_count": 6,
      "outputs": [
        {
          "output_type": "stream",
          "text": [
            "The first 10 numbers in the Fibbinaci series are:\n",
            "[ 1.  1.  2.  3.  5.  8. 13. 21. 34. 55.]\n"
          ],
          "name": "stdout"
        }
      ]
    },
    {
      "cell_type": "markdown",
      "metadata": {
        "id": "8RDZA-YO_CJe"
      },
      "source": [
        "Note that I wrote this so you can change a single parameter, n, to chamge how many terms in the series are evaluated. This makes it easy to turn into a function, if desired."
      ]
    },
    {
      "cell_type": "markdown",
      "metadata": {
        "id": "KHZuI7y3_CJf"
      },
      "source": [
        "Now suppose (just suppose!) you needed to find the first Fibonacci number larger than 10,000. How would you do it?  You want to stop generating the sequence when you get there.  But you don't know how many times you'll have to loop.  There are a couple ways to do this.  First, you could make a really big loop and break out when you reach the desired point.  We won't bother to store all the intermediate numbers in the sequence."
      ]
    },
    {
      "cell_type": "code",
      "metadata": {
        "id": "mFa8iZ1D_CJf",
        "colab": {
          "base_uri": "https://localhost:8080/"
        },
        "outputId": "f5c08c90-dabe-482f-93f8-18021fec3298"
      },
      "source": [
        "n = 1000\n",
        "threshold = 10000\n",
        "f = np.zeros(n)\n",
        "f[0] = 1\n",
        "f[1] = 1\n",
        "for j in range(2,n):\n",
        "    f[j] = f[j-1] + f[j-2]\n",
        "    if f[j] > threshold:\n",
        "        break\n",
        "print(f\" The value of the {j+1}th term in the series is {f[j]}\")"
      ],
      "execution_count": 7,
      "outputs": [
        {
          "output_type": "stream",
          "text": [
            " The value of the 21th term in the series is 10946.0\n"
          ],
          "name": "stdout"
        }
      ]
    },
    {
      "cell_type": "markdown",
      "metadata": {
        "id": "s8FRIeHe_CJf"
      },
      "source": [
        "We loop, testing the result with an \"if\" statement each time.  When the if-statement is true we break out of the loop and print the results.  The if-statement is also indented and terminated with an \"end\".  It can contain multiple lines between the if and the end.  Notice how we update the value of the series fn, fnplus1, and fnplus2 at each step.  It also helps to choose descriptive variable name to make your code more readable.  (Why did I start the loop at 3?).  Notice that the if statement, just like the for statemnt, using indentation to distinguish the line that are executed when the if evaluates as true.\n",
        "\n",
        "***A more elegant way to accomplish the same calculation is to use a \"while\" loop.***\n"
      ]
    },
    {
      "cell_type": "code",
      "metadata": {
        "id": "CfpRyVr-_CJg",
        "colab": {
          "base_uri": "https://localhost:8080/"
        },
        "outputId": "01220a6a-f2ed-49bf-9777-a885df2c1ded"
      },
      "source": [
        "threshold = 10000\n",
        "f = 1\n",
        "fminus1 = 1;\n",
        "fminus2 = 0\n",
        "j = 1\n",
        "while f <= threshold:\n",
        "   f = fminus1 + fminus2\n",
        "   fminus2 = fminus1\n",
        "   fminus1 = f\n",
        "   j += 1\n",
        "print(f\" The value of the {j}th term in the series is {f}\")"
      ],
      "execution_count": 8,
      "outputs": [
        {
          "output_type": "stream",
          "text": [
            " The value of the 21th term in the series is 10946\n"
          ],
          "name": "stdout"
        }
      ]
    },
    {
      "cell_type": "markdown",
      "metadata": {
        "id": "k_7NGZxd_CJg"
      },
      "source": [
        "The loop executes while the condition is true, testing the condition at the top of each loop. So as soon as it reaches the bottom of a loop where f > threshold it exits. We need a variable to keep track of how many times we loop (here I used j as the counter) if we want to know which term we are on when the loop exits.\n",
        "\n",
        "***Note that if the condition in the while loop is never false, the loop will continue forever creating an infinite loop - a common programming mistake!***"
      ]
    },
    {
      "cell_type": "markdown",
      "metadata": {
        "id": "6aegFg-j_CJh"
      },
      "source": [
        "Finally, lets look at a more complicated if-statement.  This example tests the reader's math skills."
      ]
    },
    {
      "cell_type": "code",
      "metadata": {
        "id": "0m6gZ2je_CJh",
        "colab": {
          "base_uri": "https://localhost:8080/",
          "height": 521
        },
        "outputId": "d9b3c38b-fe9f-4675-bd09-072044818e99"
      },
      "source": [
        "# Script to test your knowledge of 1-12 times tables.\n",
        "# Generate two random integers between 1 and 12,\n",
        "# and prompt the user for the product.\n",
        "# Praise them if they are right; ridicule them if they are wrong.\n",
        "# Continue until the user enters a negative number.\n",
        "\n",
        "print('It is math quiz time boys and girls!')\n",
        "print('Type in a negative number when you want to quit.')\n",
        "answer = 1\n",
        "while answer >= 0:\n",
        "    a = np.random.randint(low=1, high=12)\n",
        "    b = np.random.randint(low=1, high=12)\n",
        "    c = a * b\n",
        "    print()\n",
        "    print(f\"What is {a} x {b} ?\")\n",
        "    answer = int(input())\n",
        "    if answer == c:\n",
        "        print('You are so smart!')\n",
        "    else:\n",
        "        print('You are an idiot!')\n",
        "print()\n",
        "print('Giving up so soon?  Whimp!')"
      ],
      "execution_count": 9,
      "outputs": [
        {
          "output_type": "stream",
          "text": [
            "It is math quiz time boys and girls!\n",
            "Type in a negative number when you want to quit.\n",
            "\n",
            "What is 10 x 2 ?\n",
            "20\n",
            "You are so smart!\n",
            "\n",
            "What is 2 x 6 ?\n",
            "12\n",
            "You are so smart!\n",
            "\n",
            "What is 10 x 3 ?\n",
            "30\n",
            "You are so smart!\n",
            "\n",
            "What is 11 x 8 ?\n",
            "s\n"
          ],
          "name": "stdout"
        },
        {
          "output_type": "error",
          "ename": "ValueError",
          "evalue": "ignored",
          "traceback": [
            "\u001b[0;31m---------------------------------------------------------------------------\u001b[0m",
            "\u001b[0;31mValueError\u001b[0m                                Traceback (most recent call last)",
            "\u001b[0;32m<ipython-input-9-8d25ec849310>\u001b[0m in \u001b[0;36m<module>\u001b[0;34m()\u001b[0m\n\u001b[1;32m     14\u001b[0m     \u001b[0mprint\u001b[0m\u001b[0;34m(\u001b[0m\u001b[0;34m)\u001b[0m\u001b[0;34m\u001b[0m\u001b[0;34m\u001b[0m\u001b[0m\n\u001b[1;32m     15\u001b[0m     \u001b[0mprint\u001b[0m\u001b[0;34m(\u001b[0m\u001b[0;34mf\"What is {a} x {b} ?\"\u001b[0m\u001b[0;34m)\u001b[0m\u001b[0;34m\u001b[0m\u001b[0;34m\u001b[0m\u001b[0m\n\u001b[0;32m---> 16\u001b[0;31m     \u001b[0manswer\u001b[0m \u001b[0;34m=\u001b[0m \u001b[0mint\u001b[0m\u001b[0;34m(\u001b[0m\u001b[0minput\u001b[0m\u001b[0;34m(\u001b[0m\u001b[0;34m)\u001b[0m\u001b[0;34m)\u001b[0m\u001b[0;34m\u001b[0m\u001b[0;34m\u001b[0m\u001b[0m\n\u001b[0m\u001b[1;32m     17\u001b[0m     \u001b[0;32mif\u001b[0m \u001b[0manswer\u001b[0m \u001b[0;34m==\u001b[0m \u001b[0mc\u001b[0m\u001b[0;34m:\u001b[0m\u001b[0;34m\u001b[0m\u001b[0;34m\u001b[0m\u001b[0m\n\u001b[1;32m     18\u001b[0m         \u001b[0mprint\u001b[0m\u001b[0;34m(\u001b[0m\u001b[0;34m'You are so smart!'\u001b[0m\u001b[0;34m)\u001b[0m\u001b[0;34m\u001b[0m\u001b[0;34m\u001b[0m\u001b[0m\n",
            "\u001b[0;31mValueError\u001b[0m: invalid literal for int() with base 10: 's'"
          ]
        }
      ]
    },
    {
      "cell_type": "markdown",
      "metadata": {
        "id": "OOD1Yw-U_CJh"
      },
      "source": [
        "The program above contains a number of new features, such as input statements, if-else structures.  It is worth taking the time to puzzle out how it works.\n",
        "\n",
        "***What does np.randomint() do?***\n",
        "\n",
        "***Why does a negative number case the loop to exit?***\n",
        "\n",
        "***The current version only test you up to the 12 times table. How would you extend this to the 20 times table?***\n",
        "\n",
        "***What is the empty print() statement for?***\n"
      ]
    },
    {
      "cell_type": "markdown",
      "metadata": {
        "id": "XoAnmdXa_CJi"
      },
      "source": [
        "Okay, now it's time for the competitive portion of our show.  I've added a stopwatch to see how fast you are.  \n",
        "***Give it your best shot!***"
      ]
    },
    {
      "cell_type": "code",
      "metadata": {
        "id": "NhqyOLqm_CJi",
        "colab": {
          "base_uri": "https://localhost:8080/"
        },
        "outputId": "5fe66156-3760-4932-d7ec-f2e0c60ea68c"
      },
      "source": [
        "''' \n",
        "Script to test your knowledge of 1-12 times tables.\n",
        "Generate two random numbers between 1 and 12,\n",
        "and prompt the user for the product.\n",
        "Stroke them if they are right; ridicule them if they are wrong.\n",
        "Keep going until the user enters a negative number.\n",
        "NOW I'VE ADDED A STOP WATCH.  LET'S SEE HOW GOOD YOU ARE.\n",
        "'''\n",
        "\n",
        "import time # Module that interfaces with the system clock.\n",
        "\n",
        "print('It is math quiz time boys and girls!');\n",
        "print('Type in a negative number when you want to quit.');\n",
        "print()\n",
        "answer = 1;\n",
        "numbertried= 0;\n",
        "numbercorrect=0;\n",
        "\n",
        "# Loop until a negative number is entered\n",
        "t = time.time() # start time\n",
        "while answer >= 0:\n",
        "    a = np.random.randint(low=1, high=12)\n",
        "    b = np.random.randint(low=1, high=12)\n",
        "    c = a * b  \n",
        "    print(f\"What is {a} x {b} ?\")\n",
        "    answer = int(input())\n",
        "    if answer == c:\n",
        "        print('You are so smart!')\n",
        "        numbercorrect += 1\n",
        "    elif answer < 0:\n",
        "        print(\"Giving up so soon? Whimp!\")\n",
        "    else:\n",
        "        print('You are an idiot!')\n",
        "    numbertried += 1;\n",
        "elapsed = time.time() - t\n",
        "numbertried -= 1 #Remove the last result where a negative number was entered\n",
        "speed = numbertried/elapsed;\n",
        "\n",
        "# Catch the case where the user bails on the first problem\n",
        "if numbertried > 0:\n",
        "    efficiency = 100.0 * numbercorrect/numbertried;\n",
        "else:\n",
        "    efficiency = \"unknown\"\n",
        "\n",
        "print(f'You attempted {numbertried} problems.')\n",
        "print(f'You got {numbercorrect} right.');\n",
        "print(f'Your speed is {speed} problems per second.')\n",
        "print(f'Your efficiency is {efficiency} percent.')\n",
        "print()\n",
        "print(f'My daughter could  do better than that when she was a first grader!')"
      ],
      "execution_count": 10,
      "outputs": [
        {
          "output_type": "stream",
          "text": [
            "It is math quiz time boys and girls!\n",
            "Type in a negative number when you want to quit.\n",
            "\n",
            "What is 11 x 9 ?\n",
            "99\n",
            "You are so smart!\n",
            "What is 1 x 9 ?\n",
            "9\n",
            "You are so smart!\n",
            "What is 1 x 11 ?\n",
            "11\n",
            "You are so smart!\n",
            "What is 3 x 9 ?\n",
            "27\n",
            "You are so smart!\n",
            "What is 6 x 1 ?\n",
            "6\n",
            "You are so smart!\n",
            "What is 11 x 10 ?\n",
            "-1\n",
            "Giving up so soon? Whimp!\n",
            "You attempted 5 problems.\n",
            "You got 5 right.\n",
            "Your speed is 0.3364704373824324 problems per second.\n",
            "Your efficiency is 100.0 percent.\n",
            "My daughter could  do better than that when she was a first grader!\n"
          ],
          "name": "stdout"
        }
      ]
    },
    {
      "cell_type": "markdown",
      "metadata": {
        "id": "ipnsP9O0_CJi"
      },
      "source": [
        "***Do you understand this code?***\n",
        "\n",
        "* What does \"elif\" do?\n",
        "* Under what conditions would the code print out an efficiency of \"unknown?\"\n"
      ]
    },
    {
      "cell_type": "markdown",
      "metadata": {
        "id": "ugfdNPn6_CJj"
      },
      "source": [
        "***Up until now, I've done all the work. Here is the STUDENT CHALLENGE:***\n",
        "\n",
        "1. Modify the script to include 13 times table.\n",
        "2. Change the messages for correct and incorrect answers to your own combination of praise and putdowns.\n",
        "3. Change the loop to ask precisely ten questions rather than looping until the user exits, then \n",
        "report their percent score and time taken on the exam.\n"
      ]
    },
    {
      "cell_type": "markdown",
      "metadata": {
        "id": "X9d022Y0_CJj"
      },
      "source": [
        "## F - strings\n",
        "\n",
        "In the print statment in the last program I used f-strings.  F-strings were introduced relatively recently, starting with Python version 3.6. (The current version is 3.10). \"F\" is for formatting (not what you were thinking). F-strings have a lot of nice features. To create an f-string you just put the letter f ahead of the opening quotation mark.\n",
        "\n",
        "### Feature 1: Variable substitution.\n",
        "The f-string lets you insert the contents of a variable into the string you are printing. For example:"
      ]
    },
    {
      "cell_type": "code",
      "metadata": {
        "id": "Z0KyEMej_CJj",
        "outputId": "72618653-a813-4732-8b93-ba8ba640e4d3"
      },
      "source": [
        "# Convert Farenheit to Celcius\n",
        "print(\"Enter a temperature in Farenheight\")\n",
        "temperature_f = float(input())\n",
        "temperature_c = (100 * (temperature_f - 32))/180\n",
        "print(f\"The temperature {temperature_f} in Farenheit is {temperature_c} in Celcius\")"
      ],
      "execution_count": null,
      "outputs": [
        {
          "output_type": "stream",
          "text": [
            "Enter a temperature in Farenheight\n",
            "90\n",
            "The temperature 90.0 in Farenheit is 32.22222222222222 in Celcius\n"
          ],
          "name": "stdout"
        }
      ]
    },
    {
      "cell_type": "markdown",
      "metadata": {
        "id": "nVDsBW7C_CJj"
      },
      "source": [
        "***Notice that the values of the variable names in {} are automatically replaced with their values when the string is printed.***\n",
        "\n",
        "### Student Challenge\n",
        "Create variables two variables. \n",
        "\n",
        "***The first be assigned to a list of course names:*** \n",
        "\"Analytics Methods in Mineralogy\"  \n",
        "\"Introduction to Geophysics\"  \n",
        "\"Vertebrate Paleontology and Taphonomy.\"\n",
        "\n",
        "***The second variable should be assigned to the corresponding course numbers: 5401, 5454, 5601***\n",
        "\n",
        "Then create a loop that prints:\n",
        "\n",
        "\"The course number for Analytics Methods in Mineralogy is 5401.\"  \n",
        "\"The course number for Introduction to Geophysics is 5454.\"  \n",
        "\"The course number for Vertebrate Paleontology and Taphonomy is 5601.\"  \n",
        "***\n"
      ]
    },
    {
      "cell_type": "markdown",
      "metadata": {
        "id": "oObuNyce_CJk"
      },
      "source": [
        "F-string curly braces can handle python expressions as easily as variables."
      ]
    },
    {
      "cell_type": "code",
      "metadata": {
        "id": "NBPQCr7L_CJk",
        "colab": {
          "base_uri": "https://localhost:8080/"
        },
        "outputId": "f2aa60bc-88c0-48a4-91e4-355b0c46a2e1"
      },
      "source": [
        "import numpy as np\n",
        "\n",
        "print(f\"The first three powers of pi are: {np.pi}, {np.pi**2}, and {np.pi**3}\")"
      ],
      "execution_count": 12,
      "outputs": [
        {
          "output_type": "stream",
          "text": [
            "The first three powers of pi are: 3.141592653589793, 9.869604401089358, and 31.006276680299816\n"
          ],
          "name": "stdout"
        }
      ]
    },
    {
      "cell_type": "markdown",
      "metadata": {
        "id": "Ph_qj2hZ_CJk"
      },
      "source": [
        "You can also format the printing of the numbers. In the example below, the first variable is printed with 2 columns, the second with 3, the third with four."
      ]
    },
    {
      "cell_type": "code",
      "metadata": {
        "id": "QtQn0J2w_CJk",
        "outputId": "d319282f-e985-4120-f605-5960690bda5e"
      },
      "source": [
        "for x in range(1, 11):\n",
        "    print(f'{x:02} {x*x:3} {x*x*x:4}')"
      ],
      "execution_count": null,
      "outputs": [
        {
          "output_type": "stream",
          "text": [
            "01   1    1\n",
            "02   4    8\n",
            "03   9   27\n",
            "04  16   64\n",
            "05  25  125\n",
            "06  36  216\n",
            "07  49  343\n",
            "08  64  512\n",
            "09  81  729\n",
            "10 100 1000\n"
          ],
          "name": "stdout"
        }
      ]
    },
    {
      "cell_type": "markdown",
      "metadata": {
        "id": "tYbg09EF_CJk"
      },
      "source": [
        "In the next example, we print the powers of pi again, but the :3f tells python to print them as \"floating point\" numbers to 3 decimal places."
      ]
    },
    {
      "cell_type": "code",
      "metadata": {
        "id": "j6qSaku0_CJl",
        "colab": {
          "base_uri": "https://localhost:8080/"
        },
        "outputId": "9a42e2c2-588f-4d56-c38b-2eb163b50aad"
      },
      "source": [
        "print(f\"The first three powers of pi to three decimals are: {np.pi:.3f}, {np.pi**2:.3f}, and {np.pi**3:.3f}\")"
      ],
      "execution_count": 13,
      "outputs": [
        {
          "output_type": "stream",
          "text": [
            "The first three powers of pi to three decimals are: 3.142, 9.870, and 31.006\n"
          ],
          "name": "stdout"
        }
      ]
    },
    {
      "cell_type": "markdown",
      "metadata": {
        "id": "koNLA4_0_CJl"
      },
      "source": [
        "Using :2e tells python to print the numbers to 2 decimal places using scientific notation."
      ]
    },
    {
      "cell_type": "code",
      "metadata": {
        "id": "GvAhJVAA_CJl",
        "outputId": "7f929761-ca27-49e1-9806-bd165664404f"
      },
      "source": [
        "print(f\"The first three powers of pi are: {np.pi:.2e}, {np.pi**2:.2e}, and {np.pi**3:.2e}\")"
      ],
      "execution_count": null,
      "outputs": [
        {
          "output_type": "stream",
          "text": [
            "The first three powers of pi are: 3.14e+00, 9.87e+00, and 3.10e+01\n"
          ],
          "name": "stdout"
        }
      ]
    },
    {
      "cell_type": "markdown",
      "metadata": {
        "id": "TrdaEerp_CJl"
      },
      "source": [
        "In this example, the numbers are printed as right-justified in a 10-column wide field with 3 digits after the decimal."
      ]
    },
    {
      "cell_type": "code",
      "metadata": {
        "id": "NGSdLpS3_CJl",
        "colab": {
          "base_uri": "https://localhost:8080/"
        },
        "outputId": "e2d0e0b5-4dbc-4765-c1f6-9498fcae24f8"
      },
      "source": [
        "for x in range(1,10):\n",
        "    print(f\"The power {x} of pi is: {np.pi**x:>10.3f}\")"
      ],
      "execution_count": 14,
      "outputs": [
        {
          "output_type": "stream",
          "text": [
            "The power 1 of pi is:      3.142\n",
            "The power 2 of pi is:      9.870\n",
            "The power 3 of pi is:     31.006\n",
            "The power 4 of pi is:     97.409\n",
            "The power 5 of pi is:    306.020\n",
            "The power 6 of pi is:    961.389\n",
            "The power 7 of pi is:   3020.293\n",
            "The power 8 of pi is:   9488.531\n",
            "The power 9 of pi is:  29809.099\n"
          ],
          "name": "stdout"
        }
      ]
    },
    {
      "cell_type": "markdown",
      "metadata": {
        "id": "I6wYtkSo_CJm"
      },
      "source": [
        "As I think you are figuring out, all of the formatting control comes after the semicolon.  \n",
        "{variable or expression:format}\n",
        "\n",
        "The full reference on the formatting codes can be found here:***\n",
        "https://docs.python.org/3/library/string.html#formatspec\n",
        "***It really is it's own mini-language.\n",
        "\n",
        "## Student Challenge\n",
        "***See if you can print the same loop as above for the powers of pi, but as centered in a 15 column wide field with 4 places after the decimal.***"
      ]
    },
    {
      "cell_type": "code",
      "metadata": {
        "id": "0Q9XBl7A_CJm",
        "outputId": "db3b8064-0f6e-43b5-b070-8944c6254a70"
      },
      "source": [
        "for x in range(1,10):\n",
        "    print(f\"The power {x} of pi is: {np.pi**x:^15.4f}\")"
      ],
      "execution_count": null,
      "outputs": [
        {
          "output_type": "stream",
          "text": [
            "The power 1 of pi is:     3.1416     \n",
            "The power 2 of pi is:     9.8696     \n",
            "The power 3 of pi is:     31.0063    \n",
            "The power 4 of pi is:     97.4091    \n",
            "The power 5 of pi is:    306.0197    \n",
            "The power 6 of pi is:    961.3892    \n",
            "The power 7 of pi is:    3020.2932   \n",
            "The power 8 of pi is:    9488.5310   \n",
            "The power 9 of pi is:   29809.0993   \n"
          ],
          "name": "stdout"
        }
      ]
    },
    {
      "cell_type": "markdown",
      "metadata": {
        "id": "zCUGWjLA_CJm"
      },
      "source": [
        "***I hope you had fun!  Try some of these techniques in your own programs.  They are easy and powerful once you get the hang of them.***"
      ]
    }
  ]
}