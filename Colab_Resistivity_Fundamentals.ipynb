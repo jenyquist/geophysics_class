{
  "nbformat": 4,
  "nbformat_minor": 0,
  "metadata": {
    "kernelspec": {
      "display_name": "Python 3",
      "language": "python",
      "name": "python3"
    },
    "language_info": {
      "codemirror_mode": {
        "name": "ipython",
        "version": 3
      },
      "file_extension": ".py",
      "mimetype": "text/x-python",
      "name": "python",
      "nbconvert_exporter": "python",
      "pygments_lexer": "ipython3",
      "version": "3.7.4"
    },
    "colab": {
      "name": "Colab-Resistivity_Fundamentals.ipynb",
      "provenance": [],
      "collapsed_sections": [],
      "include_colab_link": true
    }
  },
  "cells": [
    {
      "cell_type": "markdown",
      "metadata": {
        "id": "view-in-github",
        "colab_type": "text"
      },
      "source": [
        "<a href=\"https://colab.research.google.com/github/jenyquist/geophysics_class/blob/main/Colab_Resistivity_Fundamentals.ipynb\" target=\"_parent\"><img src=\"https://colab.research.google.com/assets/colab-badge.svg\" alt=\"Open In Colab\"/></a>"
      ]
    },
    {
      "cell_type": "markdown",
      "metadata": {
        "id": "sQhlsmW5FhJI"
      },
      "source": [
        "# In-Class Laboratory:  Fundamentals of Electrical Resistivity"
      ]
    },
    {
      "cell_type": "markdown",
      "metadata": {
        "id": "7yFLSoNsFhJN"
      },
      "source": [
        "$$ \\large V = \\frac{\\rho I}{2\\pi r}$$\n",
        "\n",
        "As we derived in class the voltage from a point source on the surface of a halfspace is given by the equation above.\n",
        "Of course, you cannot have a positive current source without a negative current sink, so the actual voltage potential is the superposition of a source and a sink.\n",
        "\n",
        "We are going to recreate figure 7.4 in the text. First we need a function that implements the equation above."
      ]
    },
    {
      "cell_type": "markdown",
      "metadata": {
        "id": "sDb3yz37FhJP"
      },
      "source": [
        "### Function source_sink"
      ]
    },
    {
      "cell_type": "code",
      "metadata": {
        "id": "IKbHWRnNFhJQ"
      },
      "source": [
        "def source_sink(x_source, x_sink, xlo=-100.0, xhi=100.0, zlo=-100.0, delta=1.0):\n",
        "    \"\"\"\n",
        "    PURPOSE:\n",
        "    This function inputs the x-coordinates of the source and sink\n",
        "    and outputs the voltages on an nx by nz grid of points. The constant\n",
        "    factor, (rho*I/2pi), is set to one because for a homogeneous earth this\n",
        "    only scales the voltage up or down, but does not change the pattern\n",
        "    of flow lines. \n",
        "    \n",
        "    INPUTS:\n",
        "    x_source --> the x coordinate of the source (meters)\n",
        "    x_sink   --> the x coordinate of the sink (meters)\n",
        "    xlo      --> minimum x coordinate of the grid (default is -100)\n",
        "    xhi      --> maximum x coordinate of the grid (default is +100)\n",
        "    zlo      --> the deepest limit of the grid(default is -100) \n",
        "                 Note: zhi is zero, the ground surface.\n",
        "    delta    --> spacing between grid points\n",
        "    \n",
        "    OUTPUTS: \n",
        "    V        --> voltage at all the x, z, pairs\n",
        "    xg       --> grid of x coordinates \n",
        "    zg       --> grid of z coordinates\n",
        "    \"\"\"\n",
        "    \n",
        "    import numpy as np\n",
        "    \n",
        "    zhi = 0.0 # ground surface\n",
        "    z_source = 0.1 # raise the source off the grid to avoid zero distances\n",
        "    z_sink = 0.1\n",
        "    I = 100.0 # arbitrary current strength\n",
        "    rho = 1000 # arbitrary halfspace resistivity\n",
        "    \n",
        "    # Define the grid\n",
        "    x = np.arange(xlo, xhi, delta)\n",
        "    z = np.arange(zlo, zhi, delta)\n",
        "    xg, zg = np.meshgrid(x, z)\n",
        "    \n",
        "    r_source = np.sqrt((xg - x_source)**2 + (zg - z_source)**2)\n",
        "    r_sink = np.sqrt((xg - x_sink)**2 + (zg - z_sink)**2)\n",
        "    V_source = (rho * I)/(2 * np.pi * r_source) \n",
        "    V_sink = -(rho * I)/(2 * np.pi * r_sink) \n",
        "    V = V_source + V_sink\n",
        "    return (xg, zg, V)"
      ],
      "execution_count": null,
      "outputs": []
    },
    {
      "cell_type": "markdown",
      "metadata": {
        "id": "ySGsMFnvFhJS"
      },
      "source": [
        "### Call the function and plot the voltages"
      ]
    },
    {
      "cell_type": "code",
      "metadata": {
        "id": "RxothlTyFhJT"
      },
      "source": [
        "x, z, V = source_sink(-30, 30)"
      ],
      "execution_count": null,
      "outputs": []
    },
    {
      "cell_type": "code",
      "metadata": {
        "id": "lUbgR2UQFhJU",
        "outputId": "9cab4b21-d8c3-4c28-b72e-7346ecb9277c"
      },
      "source": [
        "import numpy as np\n",
        "import matplotlib.pyplot as plt\n",
        "%matplotlib inline\n",
        "plt.contour(x, z, V)\n",
        "plt.title(\"Voltage Contours\")\n",
        "plt.xlabel(\"X (m)\")\n",
        "plt.ylabel(\"Depth (m)\")"
      ],
      "execution_count": null,
      "outputs": [
        {
          "output_type": "execute_result",
          "data": {
            "text/plain": [
              "Text(0, 0.5, 'Depth (m)')"
            ]
          },
          "metadata": {
            "tags": []
          },
          "execution_count": 87
        },
        {
          "output_type": "display_data",
          "data": {
            "image/png": "[encoded data removed]",
            "text/plain": [
              "<Figure size 432x288 with 1 Axes>"
            ]
          },
          "metadata": {
            "tags": [],
            "needs_background": "light"
          }
        }
      ]
    },
    {
      "cell_type": "markdown",
      "metadata": {
        "id": "s2k3K41WFhJW"
      },
      "source": [
        "The plot is not very informative because the voltage drops off rapidly with distance. You need to use contours that are logarithmically spaced. Why is there a contour straight down the middle?"
      ]
    },
    {
      "cell_type": "code",
      "metadata": {
        "scrolled": true,
        "id": "1XoiWZCUFhJX"
      },
      "source": [
        "loglev = np.arange(1, 8, 0.5)\n",
        "pos_contours = 10**loglev\n",
        "neg_contours = -1.0 * pos_contours\n",
        "contour_levels = np.concatenate((pos_contours, neg_contours))\n",
        "contour_levels = np.sort(contour_levels)"
      ],
      "execution_count": null,
      "outputs": []
    },
    {
      "cell_type": "code",
      "metadata": {
        "id": "Nac6aV8lFhJX",
        "outputId": "4877047f-b3a2-4a7f-e50e-b738bfb249e6"
      },
      "source": [
        "print(contour_levels)"
      ],
      "execution_count": null,
      "outputs": [
        {
          "output_type": "stream",
          "text": [
            "[-3.16227766e+07 -1.00000000e+07 -3.16227766e+06 -1.00000000e+06\n",
            " -3.16227766e+05 -1.00000000e+05 -3.16227766e+04 -1.00000000e+04\n",
            " -3.16227766e+03 -1.00000000e+03 -3.16227766e+02 -1.00000000e+02\n",
            " -3.16227766e+01 -1.00000000e+01  1.00000000e+01  3.16227766e+01\n",
            "  1.00000000e+02  3.16227766e+02  1.00000000e+03  3.16227766e+03\n",
            "  1.00000000e+04  3.16227766e+04  1.00000000e+05  3.16227766e+05\n",
            "  1.00000000e+06  3.16227766e+06  1.00000000e+07  3.16227766e+07]\n"
          ],
          "name": "stdout"
        }
      ]
    },
    {
      "cell_type": "code",
      "metadata": {
        "id": "AZqGdWv4FhJY",
        "outputId": "5bfc162a-6f5f-4431-daac-b32efeab851a"
      },
      "source": [
        "np.min(V)"
      ],
      "execution_count": null,
      "outputs": [
        {
          "output_type": "execute_result",
          "data": {
            "text/plain": [
              "-14203.417518572189"
            ]
          },
          "metadata": {
            "tags": []
          },
          "execution_count": 81
        }
      ]
    },
    {
      "cell_type": "code",
      "metadata": {
        "id": "FIPw2hrGFhJZ",
        "outputId": "52adc618-18db-49aa-9550-fb2716913709"
      },
      "source": [
        "plt.contour(x, z, V, contour_levels)\n",
        "plt.title(\"Voltage Contours\")\n",
        "plt.xlabel(\"X (m)\")\n",
        "plt.ylabel(\"Depth (m)\")"
      ],
      "execution_count": null,
      "outputs": [
        {
          "output_type": "execute_result",
          "data": {
            "text/plain": [
              "Text(0, 0.5, 'Depth (m)')"
            ]
          },
          "metadata": {
            "tags": []
          },
          "execution_count": 82
        },
        {
          "output_type": "display_data",
          "data": {
            "image/png": "[encoded data removed]",
            "text/plain": [
              "<Figure size 432x288 with 1 Axes>"
            ]
          },
          "metadata": {
            "tags": [],
            "needs_background": "light"
          }
        }
      ]
    },
    {
      "cell_type": "markdown",
      "metadata": {
        "id": "hPzgpKseFhJa"
      },
      "source": [
        "### Looking good!\n",
        "Now lets make the figure a bit larger.\n",
        "This will open the plot in its own window. Click the save button then open and print the image on a\n",
        "full page."
      ]
    },
    {
      "cell_type": "code",
      "metadata": {
        "id": "UmvCHf9WFhJa",
        "outputId": "b3a3c74a-6f3b-44d1-cd16-af78d61b8a42"
      },
      "source": [
        "# open plot in its own window\n",
        "%matplotlib \n",
        "\n",
        "plt.contour(x, z, V, contour_levels, figsize=(10,10))\n",
        "plt.title(\"Voltage Contours\")\n",
        "plt.xlabel(\"X (m)\")\n",
        "plt.ylabel(\"Depth (m)\")"
      ],
      "execution_count": null,
      "outputs": [
        {
          "output_type": "stream",
          "text": [
            "Using matplotlib backend: Qt5Agg\n"
          ],
          "name": "stdout"
        },
        {
          "output_type": "execute_result",
          "data": {
            "text/plain": [
              "Text(0, 0.5, 'Depth (m)')"
            ]
          },
          "metadata": {
            "tags": []
          },
          "execution_count": 93
        }
      ]
    },
    {
      "cell_type": "markdown",
      "metadata": {
        "id": "IbLP5zEIFhJb"
      },
      "source": [
        "Now I want you to print out this figure and draw in the current flow lines by hand (Yes, by hand, not with Python, although there is a way to do it.), then answer the following questions:\n",
        "\n",
        "1.\tWhy did we need to use logarithmically spaced contours?\n",
        "2.\tWhat does this tell you about where most of the current is flowing?\n",
        "3.\tWhat happens to the current that is leaving the source in the opposite direction from the sink?\n",
        "4.\tHow would the equipotentials change if we changed the resistivity?  The current?\n",
        "5.\tWhat would happen to the flow lines and equipotentials if you put a conductive heterogeneity at say (40,40)? \n",
        "6.\tHow about a resistive heterogeneity?\n",
        "7.\tIf the source and sink were very close together, what would the equipotentials look like? \n",
        "(Hint, look on p450 in your text.)  It is only the equipotentials at the surface that we can measure though, so what would we see?\n",
        "8.\tWhat would be the effect on the equipotentials of a very resistive layer at depth 20?"
      ]
    },
    {
      "cell_type": "markdown",
      "metadata": {
        "id": "phTSqn94FhJc"
      },
      "source": [
        "### Now plot the voltages for a series of depth slices.\n",
        "Execute the cell below for a variety of different values of n.\n",
        "For the default grid size\n",
        "n = 99 is right below the surface\n",
        "n = 50 is mid way down\n",
        "n = 100 is the deepest slice"
      ]
    },
    {
      "cell_type": "code",
      "metadata": {
        "id": "n8IGsUubFhJd",
        "outputId": "4a1830c7-ca8d-4f9f-8b0d-5aa927f142d5"
      },
      "source": [
        "# go back to plotting in the notebook\n",
        "%matplotlib inline\n",
        "\n",
        "n = 99\n",
        "# x[n,:] slices row n (depth) and all the columns (x values)\n",
        "plt.plot(x[n,:], V[n,:])  \n",
        "plt.title(\"Voltage Slice\")\n",
        "plt.xlabel(\"X (m)\")\n",
        "plt.ylabel(\"Voltage (m)\")"
      ],
      "execution_count": null,
      "outputs": [
        {
          "output_type": "execute_result",
          "data": {
            "text/plain": [
              "Text(0, 0.5, 'Voltage (m)')"
            ]
          },
          "metadata": {
            "tags": []
          },
          "execution_count": 110
        },
        {
          "output_type": "display_data",
          "data": {
            "image/png": "[encoded data removed]",
            "text/plain": [
              "<Figure size 432x288 with 1 Axes>"
            ]
          },
          "metadata": {
            "tags": [],
            "needs_background": "light"
          }
        }
      ]
    },
    {
      "cell_type": "markdown",
      "metadata": {
        "id": "lvW8q102FhJd"
      },
      "source": [
        "Finally, let's try to develop some intuition about what a resistivty profile might look like.  Assume we are collecting profile data with a 4-electrode system using  a dipole-dipole configuration. Sketch what you think will happen to the potential difference (P2-P1) as the survey passes over the conductive inheterogeneity.\n",
        "\n",
        "You can hand in your answers if like, but either way, make sure you can answer as this is the sort of question I might ask on an exam.\n"
      ]
    }
  ]
}