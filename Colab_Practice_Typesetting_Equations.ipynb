{
  "nbformat": 4,
  "nbformat_minor": 0,
  "metadata": {
    "kernelspec": {
      "display_name": "Python 3",
      "language": "python",
      "name": "python3"
    },
    "language_info": {
      "codemirror_mode": {
        "name": "ipython",
        "version": 3
      },
      "file_extension": ".py",
      "mimetype": "text/x-python",
      "name": "python",
      "nbconvert_exporter": "python",
      "pygments_lexer": "ipython3",
      "version": "3.7.4"
    },
    "colab": {
      "name": "Colab-Practice_Typesetting_Equations.ipynb",
      "provenance": [],
      "collapsed_sections": [],
      "include_colab_link": true
    }
  },
  "cells": [
    {
      "cell_type": "markdown",
      "metadata": {
        "id": "view-in-github",
        "colab_type": "text"
      },
      "source": [
        "<a href=\"https://colab.research.google.com/github/jenyquist/geophysics_class/blob/main/Colab_Practice_Typesetting_Equations.ipynb\" target=\"_parent\"><img src=\"https://colab.research.google.com/assets/colab-badge.svg\" alt=\"Open In Colab\"/></a>"
      ]
    },
    {
      "cell_type": "markdown",
      "metadata": {
        "id": "9uXcLXzjOchF"
      },
      "source": [
        "# Typesetting Equations\n",
        "\n",
        "Quite a few of you have not tried typeseeting equations in Markdown cells like this one. It's a useful skill to have, one you'll need a lot in Problem Set #2, so I'll set you a few challenges. Try to reproduce each of the equations below in Markdown."
      ]
    },
    {
      "cell_type": "markdown",
      "metadata": {
        "id": "tCKuAG11OchL"
      },
      "source": [
        "Here is a simple example with the solution in the cell below it. You can open the cell to see how it was done.\n",
        "\n",
        "[![Conventional-Archie.png](https://i.postimg.cc/MT4Nn9j7/Conventional-Archie.png)](https://postimg.cc/qhsjYXwq)"
      ]
    },
    {
      "cell_type": "markdown",
      "metadata": {
        "id": "AVh3AZWVOchM"
      },
      "source": [
        "$$ \\sigma_{eff} = C \\sigma_2 \\chi^m_2 $$"
      ]
    },
    {
      "cell_type": "markdown",
      "metadata": {
        "id": "5kcdh8P8OchN"
      },
      "source": [
        "Here is one [online Latex Editor](https://www.codecogs.com/latex/eqneditor.php) that will help. Just remember to enclose the latex in double dollar signs for a centered equation, single dollar signs for an inline equation."
      ]
    },
    {
      "cell_type": "markdown",
      "metadata": {
        "id": "7t_TmG7zOchP"
      },
      "source": [
        "[![rho.png](https://i.postimg.cc/vHSMWvFN/rho.png)](https://postimg.cc/BXDd3HvT)"
      ]
    },
    {
      "cell_type": "markdown",
      "metadata": {
        "id": "pCFTtNZHOchQ"
      },
      "source": [
        ""
      ]
    },
    {
      "cell_type": "markdown",
      "metadata": {
        "id": "OdCIS5YmOchR"
      },
      "source": [
        "[![K.png](https://i.postimg.cc/C57MTy2h/K.png)](https://postimg.cc/BP8fHzsk)"
      ]
    },
    {
      "cell_type": "markdown",
      "metadata": {
        "id": "4_TkCnpWOchS"
      },
      "source": [
        ""
      ]
    },
    {
      "cell_type": "markdown",
      "metadata": {
        "id": "qTgXiTdWOchT"
      },
      "source": [
        "[![dipole.png](https://i.postimg.cc/fbnGK2HB/dipole.png)](https://postimg.cc/Snd1QrbM)"
      ]
    },
    {
      "cell_type": "markdown",
      "metadata": {
        "id": "KKC-sv2cOchU"
      },
      "source": [
        ""
      ]
    },
    {
      "cell_type": "markdown",
      "metadata": {
        "id": "F8meGN8QOchU"
      },
      "source": [
        "[![archie.png](https://i.postimg.cc/L4CG76Cq/archie.png)](https://postimg.cc/w3NWRHdH)"
      ]
    },
    {
      "cell_type": "markdown",
      "metadata": {
        "id": "Ku3FXvqAOchV"
      },
      "source": [
        ""
      ]
    },
    {
      "cell_type": "markdown",
      "metadata": {
        "id": "U_Gas67GOchV"
      },
      "source": [
        "[![two-phases.png](https://i.postimg.cc/13pC99Hr/two-phases.png)](https://postimg.cc/yD8XjC2D)"
      ]
    },
    {
      "cell_type": "markdown",
      "metadata": {
        "id": "4HddnaelOchW"
      },
      "source": [
        ""
      ]
    }
  ]
}