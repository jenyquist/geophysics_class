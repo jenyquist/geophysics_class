{
  "nbformat": 4,
  "nbformat_minor": 0,
  "metadata": {
    "kernelspec": {
      "display_name": "Python 3",
      "language": "python",
      "name": "python3"
    },
    "language_info": {
      "codemirror_mode": {
        "name": "ipython",
        "version": 3
      },
      "file_extension": ".py",
      "mimetype": "text/x-python",
      "name": "python",
      "nbconvert_exporter": "python",
      "pygments_lexer": "ipython3",
      "version": "3.7.3"
    },
    "colab": {
      "name": "Colab-Gravity_and_Vectors.ipynb",
      "provenance": [],
      "collapsed_sections": [],
      "toc_visible": true,
      "include_colab_link": true
    }
  },
  "cells": [
    {
      "cell_type": "markdown",
      "metadata": {
        "id": "view-in-github",
        "colab_type": "text"
      },
      "source": [
        "<a href=\"https://colab.research.google.com/github/jenyquist/geophysics_class/blob/main/Colab_Gravity_and_Vectors.ipynb\" target=\"_parent\"><img src=\"https://colab.research.google.com/assets/colab-badge.svg\" alt=\"Open In Colab\"/></a>"
      ]
    },
    {
      "cell_type": "markdown",
      "metadata": {
        "collapsed": true,
        "id": "5V9ODNU16Vj7"
      },
      "source": [
        "## Lab 2: Introduction to Microgravity with Python"
      ]
    },
    {
      "cell_type": "markdown",
      "metadata": {
        "id": "rxJYadm46Vj9"
      },
      "source": [
        "__Outline__\n",
        "1. Basic Principles\n",
        "2. Review of Vectors\n",
        "3. Example using Python\n",
        "4. Your mission"
      ]
    },
    {
      "cell_type": "markdown",
      "metadata": {
        "id": "uQaIXWxr6Vj-"
      },
      "source": [
        "### Basic Principles\n",
        "\n",
        "Newton's Law of Gravity states that:\n",
        "\n",
        "$$ \\vec{F} = G\\frac{m_1 m_2}{\\vec{r}^2}$$\n",
        "\n",
        "where the two masses are a distance r apart, and G = 6.67e-11 $Nm^2/kg^2$ is the Universal Gravitational Constant.  This formula says that gravitational attraction is directly proportional to the mass of the two objects, but grows weaker with distance as the distance squared.  Note that the masses and G are scalars, but F and r are vectors.  The direction of the force is the same direction as r, always a positive attraction between the two masses.  This is a good place to review vectors.\n"
      ]
    },
    {
      "cell_type": "markdown",
      "metadata": {
        "collapsed": true,
        "id": "Ft3uQrMy6Vj_"
      },
      "source": [
        "__Review of Vectors__\n",
        "\n",
        "Scalars are just numbers.  They have magnitude but no direction.  Mass is a scalar.  Vectors have both magnitude and direction.  Speed is a scalar; velocity is a vector.   In physics, velocity is speed in some direction.  The speedometer in your car only measures speed; you'd need to add a compass to determine your car's velocity. \n",
        "\n",
        "Gravitational force is a vector, too, but the force you feel is the vector sum of all the parts of the earth pulling on you, and they don't all pull in the same direction.  So let's review how to add vectors.  Geometrically, vector addition can be performed by moving the two vectors until they touch at the base and then constructing a parallelogram.  The diagonal of the parallelogram is the sum of the two vectors.\n",
        "\n",
        "<img src=\"Parallelogram.png\">\n",
        "\n",
        "An easier way to add vectors is to break each vector down into components and sum the components.  The components of a vector are the vectors in the x, y and z directions that add up to the vector in question.  The diagram below shows the components of vector a (all use boldface for vectors) all the x and y-axes.  These components can be found trigonometrically.\n",
        "\n",
        "$$ \\vec{a} = a_x\\hat{i} + a_y\\hat{j}$$\n",
        "\n",
        "<img src=\"components.png\">\n",
        "\n",
        "Thus, we write a as the sum of its components in the direction of the unit vectors i (x-direction), j (y-direction) and k (z-direction, not shown here).  Unit vectors are just vectors of unit length pointing along the coordinate axes.  Notice that the component vectors sum together geometrically to give us **a** as expected.  So now we can add vectors a and b by summing their components.\n",
        "\n",
        "$$ \\vec{a} = a_x\\hat{i} + a_y\\hat{j}$$\n",
        "$$ \\vec{b} = b_x\\hat{i} + b_y\\hat{j}$$\n",
        "$$ \\vec{a}+ \\vec{b} = (a_x+b_x)\\hat{i} + (a_y+b_y)\\hat{j}$$\n"
      ]
    },
    {
      "cell_type": "markdown",
      "metadata": {
        "collapsed": true,
        "id": "OfyH9uan6Vj_"
      },
      "source": [
        "So if Newton's law expresses the attraction between point masses, how do we find the attraction from a more complicated shape?  We just break it down into many tiny pieces and vector sum the attractions.  It doesn't matter how complicated the shapes is, we just break it into small enough pieces that we can approximate them as point masses.  \n",
        "<img src=\"Discretize.png\">\n",
        "Of course, it helps to have a computer do all the vectors sums.  This is the type of computation that python makes easy, because the numpy module is designed to work with matrices, and vectors are just one type of matrix.  But before we turn to python, we need to complete our review of vectors by discussing vector multiplication.  There are three kinds of vector multiplication we will need in this class: \n",
        "(1) multiplication by a scalar\n",
        "(2) dot product, and \n",
        "(3) cross product.\n",
        "\n",
        "Multiplication by a scalar is the simplest of the three.  It doesn’t effect the direction, just the magnitude.  You just multiply each component of the vector by the scalar.\n",
        "\n",
        "$$ c = scalar $$\n",
        "$$ \\vec{A} = vector $$\n",
        "$$ c\\vec{A} = cA_x\\hat{i} + cA_y\\hat{j}$$\n",
        "\n",
        "The vector dot product, sometime called the scalar product (because the result is a scalar, even though you are multiplying two vectors together) is defined as:\n",
        "\n",
        "$$\\vec{a} \\cdot \\vec{b} = \\left|a \\right| \\left| b \\right| cos(\\theta)$$\n",
        "\n",
        "Geometrically, it is the magnitude of one vector multiplied by the amount of the other vector that is headed in the same direction. The order of the multiplication doesn't matter.\n",
        "\n",
        "<img src=\"dot_product.png\">\n",
        "\n",
        "Written in component form:\n",
        "$$\\vec{a} \\cdot \\vec{b} = a_xb_x + a_yb_y$$\n",
        "\n",
        "(What is the dot product of two vectors that are at right angles to each other?)\n",
        "\n",
        "Finally, we come to the cross product of two vectors, sometimes called the vector product because the cross product of two vectors results in a new vector.  It is defined as:\n",
        "\n",
        "$$\\vec{a}\\times\\vec{b} = \\left| a \\right| \\left| b \\right| sin(\\theta)$$ in the direction given by the right hand rule.\n",
        "\n",
        "Geometrically this is the magnitude of one vector times the amount of another vector that is at right angles to it.  The result is a new vector with the direction given by the right hand rule.\n",
        "The right-hand rule business is what contorts physics students during exams.  The direction of the new vector is perpendicular to the plane that a and b lie in.  For two vectors that lie in the x-y plane, the cross product will point in the z-direction.  Expressed as components:\n",
        "\n",
        "$$\\vec{a}\\times\\vec{b} = (a_xb_y - b_xa_y)\\hat{k}$$\n",
        "\n",
        "What possible use does this vector product have?  A simple example is torque.  Suppose you have a wrench attached to the cap of a monitoring well (I have to make it an environmental application somehow!).  To turn the wrench you apply a force.\n",
        "\n",
        "<img src=\"torque.png\">\n",
        "\n",
        "The force you apply to the wrench has a magnitude and a direction, but only the component of the force perpendicular to the wrench handle does any turning.  The handle has a direction too.  Furthermore, the longer the wrench handle (magnitude of vector r) the more torque your push will exert on the bolt.  So torque is the vector product of F and r.  What is the direction of torque?  Along the axis of the bolt, which is perpendicular to F and r.  Yes, but up or down?  Well that depends on whether you are tightening or loosening the bolt.  This is where the right-hand rule business comes in.  The point is that vector multiplication doesn't commute.  The order of multiplication is important.  In fact, a x b = - b x a.  One direction you tighten the bolt, the other you loosen.\n",
        "We won't use the dot product or vector product for a while, but we will return to them when we get to the chapter on electromagnetic methods.\n"
      ]
    },
    {
      "cell_type": "markdown",
      "metadata": {
        "id": "WDGsIl_v6VkA"
      },
      "source": [
        "### Example using Python\n",
        "\n",
        "In this section we are going to calculate the gravity profile using Matlab.  The geologic scenario is a spherical cavity (okay, not likely, but we have to start somewhere) with a radius of 1m centered 2m below the surface.  We will assume that the gravity measurement are made at 0.5 m increments along a profile line that goes right over the top of the cavity (How fortuitous!), which we will take to be the X axis. And assume that the sphere is located at x = 0, y = -2.  The goal of this exercise is to calculate the gravimeter readings at the surface. \n",
        "\n",
        "This is an example of a \"forward model\" where we know the geology and want to simulate the data.  This type of calculation is very important to perform in advance if you have any idea what the target is like.  We want to make sure that the cavity is theoretically detectable before we waste a bunch of time and money in the field!\n",
        "We are only interested in the anomalous gravity reading produced by the cavity, so we don't need to include the mass of the earth in our calculation.  We assume that the earth's gravitational field in the same everywhere except for the influence of the cavity.  In fact, this is not true, and in the next lab we will look at the corrections that must be made to gravity data to allow for the effects of elevation, latitude, nearby mountains, etc.\n",
        "\n",
        "<img src=\"cavity.png\">\n",
        "\n",
        "$$ F = ma = G\\frac{mM}{r^2}$$\n",
        "$$ a = G \\frac{M}{r^2}$$\n",
        "\n",
        "We don't need to know the mass inside the gravimeter because it cancels out of the equations.  What we are trying to find is the acceleration due to the mass of the cavity.  Did I say mass of the cavity?  What is producing the anomaly is the missing mass.  If there were no cavity the acceleration would be the same everywhere along the profile.  This missing mass is the same as if the cavity had a negative mass.  So the mass of the cavity is the same as the amount of missing limestone, which is the product of the density and the volume.\n",
        "\n",
        "$$ r^2 = d^2 + x^2 $$\n",
        "$$ m = \\rho\\frac{4\\pi}{3}R^3$$\n",
        " \n"
      ]
    },
    {
      "cell_type": "markdown",
      "metadata": {
        "id": "rUEQiNOK6VkB"
      },
      "source": [
        "This mass is the same along the profile, but r changes, so to calculate the gravity along the profile we have to find r as a function of the distance x along the profile.  This is given by the Pythagorean theorem.\n",
        "One last complication.  The gravimeter only measure a scale quantity and a is a vector.  What the gravimeter actually measures is the vertical component of a (which is $a_z$) because the mass inside can only move up and down.  But notice that the ratio of the vertical component to a is the same as d to r (a and r are in the same direction), so:\n",
        "\n",
        "$$ \\frac{a_z}{a} = \\frac{d}{r}$$\n",
        "$$ a_z = a\\frac{d}{r}$$\n",
        "$$ a_z = G\\frac{Md}{r^3}$$\n",
        "\n",
        "We know how to find G, m, d, and r, so we are ready to roll.  First we create a vector that has all of the x-locations of our measurements.  Our profile line will run from –10 to 10 in 0.5 m increments.\n"
      ]
    },
    {
      "cell_type": "code",
      "metadata": {
        "id": "RFcJd0js6VkC"
      },
      "source": [
        "import numpy as np\n",
        "x = np.arange(-10,10,0.5)"
      ],
      "execution_count": null,
      "outputs": []
    },
    {
      "cell_type": "markdown",
      "metadata": {
        "id": "5DxLfshz6VkD"
      },
      "source": [
        "Now define our constants:"
      ]
    },
    {
      "cell_type": "code",
      "metadata": {
        "collapsed": true,
        "id": "j_XtquZR6VkE"
      },
      "source": [
        "d = 2\n",
        "G = 6.67e-11\n",
        "rho = 2700.0\n",
        "R = 1"
      ],
      "execution_count": null,
      "outputs": []
    },
    {
      "cell_type": "markdown",
      "metadata": {
        "id": "JQKPi89U6VkE"
      },
      "source": [
        "What a minute!  I though the density was 2.7?  Yes, but unless you want to work for NASA you must what out for units.  We are working in mks, so 2.7 g/cc becomes 2,700 kg/m3.  ALWAYS CHECK YOUR UNITS!!!  \n",
        "\n",
        "Calculate the missing (so it's negative) mass and r as a function of x:\n"
      ]
    },
    {
      "cell_type": "code",
      "metadata": {
        "id": "MJECVePo6VkF",
        "outputId": "d3d8c440-8de5-4572-f065-c0d33ae098e7"
      },
      "source": [
        "import math\n",
        "m = 4 * math.pi * R**3 * rho / 3\n",
        "print(m)"
      ],
      "execution_count": null,
      "outputs": [
        {
          "output_type": "stream",
          "text": [
            "11309.733552923257\n"
          ],
          "name": "stdout"
        }
      ]
    },
    {
      "cell_type": "code",
      "metadata": {
        "collapsed": true,
        "id": "ezG_xCwB6VkG"
      },
      "source": [
        "r = np.sqrt(d**2 + x**2)"
      ],
      "execution_count": null,
      "outputs": []
    },
    {
      "cell_type": "markdown",
      "metadata": {
        "id": "MxHlKvwQ6VkG"
      },
      "source": [
        "Finally, we calculate the gravity anomaly:"
      ]
    },
    {
      "cell_type": "code",
      "metadata": {
        "collapsed": true,
        "id": "fpfkRBTW6VkG"
      },
      "source": [
        "az = G * m * d / r**3"
      ],
      "execution_count": null,
      "outputs": []
    },
    {
      "cell_type": "markdown",
      "metadata": {
        "id": "fM0S7b5Y6VkH"
      },
      "source": [
        "Wait!  Units again!  We need to convert this acceleration in m/s2 to gravity units."
      ]
    },
    {
      "cell_type": "code",
      "metadata": {
        "collapsed": true,
        "id": "Pq9MbieM6VkH"
      },
      "source": [
        "result = az * 1e6"
      ],
      "execution_count": null,
      "outputs": []
    },
    {
      "cell_type": "markdown",
      "metadata": {
        "id": "JgQ0Xqlf6VkH"
      },
      "source": [
        "And plot the result."
      ]
    },
    {
      "cell_type": "code",
      "metadata": {
        "id": "rGiH_xWl6VkH",
        "outputId": "b886faff-54f0-4ba4-b9dc-5aad88003137"
      },
      "source": [
        "import matplotlib.pyplot as plt\n",
        "%matplotlib inline\n",
        "plt.plot(x,result)\n",
        "plt.title('Gravity Anomaly Due to a 1-m Cavity at a Depth of 2m')\n",
        "plt.xlabel('Gravity Station (m)')\n",
        "plt.ylabel('Anomaly (g.u.)')\n",
        "plt.show()"
      ],
      "execution_count": null,
      "outputs": [
        {
          "output_type": "display_data",
          "data": {
            "image/png": "[encoded data removed]",
            "text/plain": [
              "<matplotlib.figure.Figure at 0x107033a58>"
            ]
          },
          "metadata": {
            "tags": []
          }
        }
      ]
    },
    {
      "cell_type": "markdown",
      "metadata": {
        "id": "mKHe1hJH6VkH"
      },
      "source": [
        "Is a cavity this size detectable.  The best we can reliably do in the field is about 5 microgals, which is .05 g.u. (1 g.u. = 100 ugal) so we have a chance since our peak anomaly is just under 20 ugal.  Any noise, though, and we're in trouble.  Microgravity is not a good way to look for 55gal drums!\n",
        "\n",
        "Your Mission\n",
        "\n",
        "Now it's your turn.  I want you to:\n",
        "\n",
        "1.\tReproduce my result.\n",
        "2.\tDetermine the radius of the sphere centered 2m down that will product a 5-ugal peak anomaly.\n",
        "3.\tBonus problem: Calculate the gravity along a profile that misses going over the top of the sphere by 1 meter.\n"
      ]
    },
    {
      "cell_type": "code",
      "metadata": {
        "collapsed": true,
        "id": "RY6zhVuv6VkI"
      },
      "source": [
        ""
      ],
      "execution_count": null,
      "outputs": []
    }
  ]
}