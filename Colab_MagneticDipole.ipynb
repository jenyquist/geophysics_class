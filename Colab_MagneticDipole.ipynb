{
  "nbformat": 4,
  "nbformat_minor": 0,
  "metadata": {
    "kernelspec": {
      "display_name": "Python 3",
      "language": "python",
      "name": "python3"
    },
    "language_info": {
      "codemirror_mode": {
        "name": "ipython",
        "version": 3
      },
      "file_extension": ".py",
      "mimetype": "text/x-python",
      "name": "python",
      "nbconvert_exporter": "python",
      "pygments_lexer": "ipython3",
      "version": "3.7.3"
    },
    "colab": {
      "name": "Colab-MagneticDipole.ipynb",
      "provenance": [],
      "collapsed_sections": [],
      "include_colab_link": true
    }
  },
  "cells": [
    {
      "cell_type": "markdown",
      "metadata": {
        "id": "view-in-github",
        "colab_type": "text"
      },
      "source": [
        "<a href=\"https://colab.research.google.com/github/jenyquist/geophysics_class/blob/main/Colab_MagneticDipole.ipynb\" target=\"_parent\"><img src=\"https://colab.research.google.com/assets/colab-badge.svg\" alt=\"Open In Colab\"/></a>"
      ]
    },
    {
      "cell_type": "markdown",
      "metadata": {
        "id": "1OiNyTYpN2jG"
      },
      "source": [
        "## Magnetic Dipoles, with a digression on Python Functions\n",
        "\n",
        "\n",
        "### Objectives\n",
        "The concept of a magnetic dipole is as fundamental to magnetics as point masses are to gravity.  Any magnetic anomaly can be treated as a superposition (vector sum) of magnetic dipoles.  Magnetic dipoles are the building blocks of magnetic interpretation, so we are going to investigate them in this lab, and at the same time learn something more about Python as well.\n",
        "\n"
      ]
    },
    {
      "cell_type": "markdown",
      "metadata": {
        "id": "qMDNEOjEN2jJ"
      },
      "source": [
        "### Magnetic Dipoles\n",
        "\n",
        "In two dimensions, the field from a magnetic dipole in cylindrical coordinates is:\n",
        "$$\\left| \\vec{F} \\right| = \\frac{2Mcos(\\theta)}{r^3}\\hat{r} + \\frac{Msin(\\theta)}{r^3}\\hat{\\theta}   \\qquad [1]$$"
      ]
    },
    {
      "cell_type": "markdown",
      "metadata": {
        "id": "arMKZuoxN2jJ"
      },
      "source": [
        "Where M is the magnetic moment of the object (permanent + induced), $\\hat{r}$  and $\\hat{\\theta}$  are the unit vectors in polar coordinates, and r is the distance from the dipole to the test point.  The magnitude of the field (see if you can prove this) is given by:\n",
        "|\n",
        "$$\\left| \\vec{F} \\right| = \\frac{M}{r^3}(1 + 3 cos^2(\\theta))^{1/2}  \\qquad [2]$$"
      ]
    },
    {
      "cell_type": "markdown",
      "metadata": {
        "id": "aNsfZqzqN2jK"
      },
      "source": [
        "#### Student Challenge\n",
        "Look up the python matplotlib command to plot in polar coordinates and make a plot of the magnitude of the force as a fuction of theta from 0 to 2pi in increments of 0 .1 radians (use r and M = 1).\n",
        "\n",
        "You should see that the maximum amplitude that is twice as large as the minimum. \n"
      ]
    },
    {
      "cell_type": "code",
      "metadata": {
        "id": "KK7yu4WGN2jK"
      },
      "source": [
        "import numpy as np\n",
        "r = 1\n",
        "M = 1\n",
        "theta = np.arange(0,2*np.pi,0.1)"
      ],
      "execution_count": null,
      "outputs": []
    },
    {
      "cell_type": "code",
      "metadata": {
        "id": "uKw0qWN6N2jL"
      },
      "source": [
        "F = (M/r**3)*(1 + 3*np.cos(theta)**2)**(1/2)"
      ],
      "execution_count": null,
      "outputs": []
    },
    {
      "cell_type": "code",
      "metadata": {
        "id": "X6672L3LN2jL"
      },
      "source": [
        "import matplotlib.pyplot as plt\n",
        "%matplotlib inline\n",
        "\n",
        "fig, ax = plt.subplots(figsize = (8,8))\n",
        "plt.polar(theta, F)"
      ],
      "execution_count": null,
      "outputs": []
    },
    {
      "cell_type": "markdown",
      "metadata": {
        "id": "xM-Q3Q5ZN2jM"
      },
      "source": [
        "This plot shows just the ***magnitude*** of the field.  Using eq. [1], what is the ***direction*** of the force at $\\theta = 0$ and \n",
        "$\\pi/2$?"
      ]
    },
    {
      "cell_type": "code",
      "metadata": {
        "id": "dRJBcx4ZN2jN"
      },
      "source": [
        "F = lambda r, theta, M: (M/r**3) * (1 + 3*np.cos(theta)**2)**(1/2)\n",
        "print(F(r, np.pi/2, M))\n",
        "print(F(r, np.pi, M))"
      ],
      "execution_count": null,
      "outputs": []
    },
    {
      "cell_type": "markdown",
      "metadata": {
        "id": "140TKJl7N2jN"
      },
      "source": [
        "Now let's transform eq. [2] into rectangular coordinates.\n",
        "$$ cos(\\theta) = x/r \\qquad[3]$$\n",
        "\n",
        "so\n",
        "\n",
        "$$ \\left| \\vec{F} \\right| = \\frac{M}{r^3} \\bigl(1 + 3 \\frac{x^2}{r^2}\\bigr)^{1/2} \\qquad[4]$$\n",
        "\n",
        "This is the field in the coordinate system of the dipole, but if the dipole is dipping at an angle $\\phi$, then we must rotate the coordinates and \n",
        "\n",
        "$$ x = {x}'cos(\\phi) + {y}'sin(\\phi)$$\n",
        "$$ y = -{x}'sin(\\phi) + {y}'cos(\\phi) \\qquad[5]$$\n",
        "\n",
        "so\n",
        "\n",
        "$$ \\left| \\vec{F} \\right| = \\frac{M}{r^3} \\bigl(1 + 3 \\frac{({x}'cos(\\phi) + {y}'sin(\\phi))^2}{r^2}\\bigr)^{1/2} $$\n",
        "\n",
        "where\n",
        "\n",
        "$$ r = \\sqrt{x^2+y^2} = \\sqrt{({x}'cos(\\phi) + {y}'sin(\\phi))^2 + ( -{x}'sin(\\phi) + {y}'cos(\\phi))^2} \\quad[6]$$"
      ]
    },
    {
      "cell_type": "markdown",
      "metadata": {
        "id": "23RYZ-sIN2jO"
      },
      "source": [
        "__Studdent Challenge:__ For a source buried at x'=0, y'=2.0, M=100, and  theta=pi/2, plot the magnitude of the field at the surface for –15 < x < 15. \n",
        "\n",
        "To do this we are going to learn about Python functions."
      ]
    },
    {
      "cell_type": "markdown",
      "metadata": {
        "id": "lvjXZ9HWN2jO"
      },
      "source": [
        "### Digression on Functions\n",
        "Often we have a bit of code we would like to reuse, or a large task we'd like to break into smaller one. At such time, a funtion is just what you need.  You've aleady ***used*** python functions lots of times, both in calculations and in printing or plotting results. But how do you write your own function?\n",
        "\n",
        "It is really quite simple: define it, then use it. \n",
        "\n",
        "#### Example one: A function that takes adds two numbers together.\n",
        "This function expects two input parameters, a and b, addes them together and prints the result."
      ]
    },
    {
      "cell_type": "code",
      "metadata": {
        "id": "3EHBPBJjN2jP"
      },
      "source": [
        "def addit(a, b):\n",
        "    print(a + b)"
      ],
      "execution_count": null,
      "outputs": []
    },
    {
      "cell_type": "code",
      "metadata": {
        "id": "yPzQieu8N2jP"
      },
      "source": [
        "addit(2,2)"
      ],
      "execution_count": null,
      "outputs": []
    },
    {
      "cell_type": "markdown",
      "metadata": {
        "id": "r3JtScNoN2jP"
      },
      "source": [
        "We use \"def\" to tell python we were are defining a function. That line ends in a semicolon and all of the rest of the line in the function are indented by the same amount. Python know you are finished defining the function when you stop indenting.\n",
        "\n",
        "If instead of printing the result, we want to return the value to the program calling the function, we can write the function this way."
      ]
    },
    {
      "cell_type": "code",
      "metadata": {
        "id": "ut-Z2L0mN2jQ"
      },
      "source": [
        "def addit2(a, b):\n",
        "    c = a + b\n",
        "    return c"
      ],
      "execution_count": null,
      "outputs": []
    },
    {
      "cell_type": "code",
      "metadata": {
        "id": "FmNyKmYON2jQ"
      },
      "source": [
        "a = 4\n",
        "b = 6\n",
        "c = addit2(a, b)\n",
        "print(c)"
      ],
      "execution_count": null,
      "outputs": []
    },
    {
      "cell_type": "markdown",
      "metadata": {
        "id": "Y6rZ6VPIN2jQ"
      },
      "source": [
        "Notice the return statement tells python what to send back to the calling program. \n",
        "\n",
        "We can return more than one value from a function if we pack the variables we want to return into a tuple.\n",
        "Here is a function that takes a number an returns the number both squared and cubed."
      ]
    },
    {
      "cell_type": "code",
      "metadata": {
        "id": "y22AI8RYN2jQ"
      },
      "source": [
        "def sq_and_cube(x):\n",
        "    x2 = x * x\n",
        "    x3 = x * x * x\n",
        "    return (x2, x3)"
      ],
      "execution_count": null,
      "outputs": []
    },
    {
      "cell_type": "code",
      "metadata": {
        "id": "TFlF3vB5N2jR"
      },
      "source": [
        "x = 3\n",
        "x2, x3 = sq_and_cube(x)\n",
        "print(x2, x3)"
      ],
      "execution_count": null,
      "outputs": []
    },
    {
      "cell_type": "code",
      "metadata": {
        "id": "MTYzL0WrN2jR"
      },
      "source": [
        "# Add a little formating to the output\n",
        "x = 5\n",
        "x2, x3 = sq_and_cube(x)\n",
        "print( f\"{x} squared is {x2} and {x} cubed is {x3}\")"
      ],
      "execution_count": null,
      "outputs": []
    },
    {
      "cell_type": "markdown",
      "metadata": {
        "id": "ZmX5L1z-N2jR"
      },
      "source": [
        "One of the nice things about functions is we can write it once and use it over and over again.\n",
        "\n",
        "__Digression Challenge:__ See if you can write a function that takes a number as an imput and return the number cubed minus the number squared.  I.e.\n",
        "\n",
        "$$ f(x) = x^3 - x^2 $$\n",
        "\n",
        "Test your function for the x values: 4, 5, and 6."
      ]
    },
    {
      "cell_type": "code",
      "metadata": {
        "id": "SyNazVfjN2jR"
      },
      "source": [
        ""
      ],
      "execution_count": null,
      "outputs": []
    },
    {
      "cell_type": "markdown",
      "metadata": {
        "id": "7kaNqUKmN2jS"
      },
      "source": [
        "__Return to Student Challege:__ Rember, the task was: For a source buried at x'=0, y'=2.0, M=100, and  theta=pi/2, plot the magnitude of the field at the surface for –15 < x < 15.\n",
        "\n",
        "Let's start by writing a function to implement equation [5].  The function will take as input parameters x', y', and $\\phi$ , and it will return values for x and y."
      ]
    },
    {
      "cell_type": "code",
      "metadata": {
        "id": "i5Z25oTfN2jS"
      },
      "source": [
        "def rotate_coord(xp,yp,phi):\n",
        "    '''This function rotates coordinates\n",
        "       Input parameters are: xp and yp, the starting coordinates, and phi the rotation angle\n",
        "       Output coordinates are: x and y, the new coordinates.\n",
        "    '''\n",
        "    import numpy as np\n",
        "    x = xp * np.cos(phi) + yp * np.sin(phi);\n",
        "    y = -xp * np.sin(phi) + yp * np.cos(phi);\n",
        "    return(x,y)\n",
        "    # That's it!\n"
      ],
      "execution_count": null,
      "outputs": []
    },
    {
      "cell_type": "markdown",
      "metadata": {
        "id": "1cyt_w7yN2jS"
      },
      "source": [
        "You have just created a function that you can call to rotate the coordinates.  For example, you can use your function this way:"
      ]
    },
    {
      "cell_type": "code",
      "metadata": {
        "id": "9wLqRk9BN2jS"
      },
      "source": [
        "phi = np.pi/2\n",
        "x,y = rotate_coord(3, 2, phi)\n",
        "print(x, y)"
      ],
      "execution_count": null,
      "outputs": []
    },
    {
      "cell_type": "markdown",
      "metadata": {
        "id": "-F1puL5RN2jT"
      },
      "source": [
        "What's cool is that if you pass values for x' and y' that are arrays of coordinates, your function will evaluate the entire array.\n",
        "\n",
        "Now let's write a function to evaluate eq. [4].\n",
        "$$ \\left| \\vec{F} \\right| = \\frac{M}{r^3} \\bigl(1 + 3 \\frac{x^2}{r^2}\\bigr)^{1/2} \\qquad[4]$$\n",
        "\n",
        "Notice that we make use of the function we've already defined. Yup, a function can call functions."
      ]
    },
    {
      "cell_type": "code",
      "metadata": {
        "id": "E_pBTTbRN2jT"
      },
      "source": [
        "def fmag(xp, d, phi, M):\n",
        "    '''This function returns the amplitude of the field for a profile along the surface \n",
        "       for a point source at x=0 and depth=d and for a dipole pointing\n",
        "       in the phi direction. \n",
        "    '''\n",
        "    import numpy as np\n",
        "    x, y = rotate_coord(xp, d, phi)\n",
        "    x3 = x**3\n",
        "    r = np.sqrt(x**2 + y**2)\n",
        "    r3 = r**3\n",
        "    field = (M/r3) * np.sqrt(1 + 3*x**2/r**2)\n",
        "    return field"
      ],
      "execution_count": null,
      "outputs": []
    },
    {
      "cell_type": "code",
      "metadata": {
        "id": "GptEFTtyN2jT"
      },
      "source": [
        "phi = np.pi/2;\n",
        "xp = np.arange(-15, 15, 0.5)\n",
        "d  = 1.0;\n",
        "M = 100;\n",
        "F = fmag(xp, d, phi, M);\n",
        "\n",
        "ax = plt.subplot(111)\n",
        "ax.plot(xp,  F)"
      ],
      "execution_count": null,
      "outputs": []
    },
    {
      "cell_type": "markdown",
      "metadata": {
        "collapsed": true,
        "id": "ie0twBliN2jT"
      },
      "source": [
        "__Student Challenge:__ Investigate how the plot above changes for different inclinations of the magnetic dipole (values of phi). Keep an eye on the magnitude."
      ]
    },
    {
      "cell_type": "code",
      "metadata": {
        "id": "Gkh83P-wN2jU"
      },
      "source": [
        ""
      ],
      "execution_count": null,
      "outputs": []
    }
  ]
}